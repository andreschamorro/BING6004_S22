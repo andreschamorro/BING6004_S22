{
 "cells": [
  {
   "cell_type": "markdown",
   "id": "1541c2c0-5e74-42ad-b053-1852ab731506",
   "metadata": {},
   "source": [
    "<p style=\"text-align:center;\">\n",
    "<img src=\"figures/NCBI-Logo.png\" alt=\"NCBI_database\" width=\"200\" class=\"center\"/>\n",
    "</p>\n",
    "<p style=\"text-align:center;\">\n",
    "<a href=\"https://www.ncbi.nlm.nih.gov/\">https://www.ncbi.nlm.nih.gov/</a> \n",
    "</p>"
   ]
  },
  {
   "cell_type": "markdown",
   "id": "0ae0bd10-bb1c-443d-8c99-8bfea9d79d6a",
   "metadata": {},
   "source": [
    "### Objetives\n",
    "1. Find appropiate BLAST program\n",
    "2. Enter query sequence\n",
    "3. Select database to search\n",
    "4. Run and analyze the output\n",
    "5. Use Smith-Waterman algorithm to corroborate NCBI BLAST findings\n",
    "6. Assess the significance of Smith-Waterman’s alignment score."
   ]
  },
  {
   "cell_type": "markdown",
   "id": "fa845c5e-727f-443e-a187-8479b10b312e",
   "metadata": {},
   "source": [
    "### Use Smith-Waterman algorithm to corroborate NCBI BLAST findings"
   ]
  },
  {
   "cell_type": "code",
   "execution_count": 1,
   "id": "d1cc2a1a-ae60-4b64-9559-003e803dbfeb",
   "metadata": {},
   "outputs": [],
   "source": [
    "import requests\n",
    "from tqdm import tqdm\n",
    "\n",
    "def download(url: str, fname: str):\n",
    "    resp = requests.get(url, stream=True)\n",
    "    total = int(resp.headers.get('content-length', 0))\n",
    "    with open(fname, 'wb') as file, tqdm(\n",
    "        desc=fname,\n",
    "        total=total,\n",
    "        unit='iB',\n",
    "        unit_scale=True,\n",
    "        unit_divisor=1024,\n",
    "    ) as bar:\n",
    "        for data in resp.iter_content(chunk_size=1024):\n",
    "            size = file.write(data)\n",
    "            bar.update(size)"
   ]
  },
  {
   "cell_type": "code",
   "execution_count": 2,
   "id": "4a9f8391-b1ab-45d9-a14b-4939b5df27fe",
   "metadata": {},
   "outputs": [
    {
     "name": "stderr",
     "output_type": "stream",
     "text": [
      "../chrs/chr13.fa.gz: 100%|████████████████████████████████████████████████████████████████████████| 30.4M/30.4M [23:46<00:00, 22.3kiB/s]\n"
     ]
    }
   ],
   "source": [
    "download(\"http://hgdownload.soe.ucsc.edu/goldenPath/hg38/chromosomes/chr13.fa.gz\", \"../chrs/chr13.fa.gz\")"
   ]
  },
  {
   "cell_type": "code",
   "execution_count": null,
   "id": "3b037e11-2269-455d-bbfc-4fcd197c2e26",
   "metadata": {},
   "outputs": [],
   "source": [
    "import gzip\n",
    "\n",
    "with gzip.open(\"../chrs/chr13.fa.gz\", \"rt\") as handle:\n",
    "    for chr13 in SeqIO.parse(handle, \"fasta\"):\n",
    "        print(len(chr13.seq))"
   ]
  },
  {
   "cell_type": "code",
   "execution_count": null,
   "id": "a6cf8067-84eb-4d96-befa-f7e371d66261",
   "metadata": {},
   "outputs": [],
   "source": [
    "chr13_sub = chr13.seq[32315508:32400268]"
   ]
  },
  {
   "cell_type": "code",
   "execution_count": null,
   "id": "65b9042a-2d0c-4283-b23e-5ed51f832dea",
   "metadata": {},
   "outputs": [],
   "source": [
    "from Bio import SeqIO\n",
    "with open(\"unknown_sequence.fasta\", \"rt\") as handle:\n",
    "    for unknown in SeqIO.parse(handle, \"fasta\"):\n",
    "        print(len(unknown.seq))"
   ]
  },
  {
   "cell_type": "code",
   "execution_count": null,
   "id": "020760af-d5f5-4460-9744-88897265adec",
   "metadata": {},
   "outputs": [],
   "source": [
    "from Bio import Align\n",
    "\n",
    "aligner = Align.PairwiseAligner()\n",
    "aligner.match_score = 1\n",
    "aligner.mismatch_score = -2\n",
    "aligner.open_gap_score = -2\n",
    "aligner.extend_gap_score = -2\n",
    "aligner.mode = \"local\""
   ]
  },
  {
   "cell_type": "code",
   "execution_count": null,
   "id": "c912ff92-e4e3-4d81-8e8c-eca4caed62e7",
   "metadata": {},
   "outputs": [],
   "source": [
    "alignments = aligner.align(chr13_sub, sequence.seq)"
   ]
  },
  {
   "cell_type": "code",
   "execution_count": null,
   "id": "834cd2de-e308-4ec5-8376-35b8e74019e9",
   "metadata": {},
   "outputs": [],
   "source": [
    "def nucolored(seq):\n",
    "    bcolors = {\n",
    "        'A': '\\033[92m',\n",
    "        'C': '\\033[94m',\n",
    "        'G': '\\033[93m',\n",
    "        'T': '\\033[91m',\n",
    "        'U': '\\033[91m',\n",
    "        'reset': '\\033[0;0m'\n",
    "    }\n",
    "    tmp_seq = \"\"\n",
    "    for n in seq:\n",
    "        if n in bcolors:\n",
    "            tmp_seq += bcolors[n] + n\n",
    "        else:\n",
    "            tmp_seq += bcolors['reset'] + n\n",
    "    return tmp_seq + '\\033[0;0m'\n",
    "\n",
    "def print_local_alignment(alignment):\n",
    "    seq1 = alignment.target\n",
    "    seq2 = alignment.query\n",
    "    aligned_seq1 = \"\"\n",
    "    aligned_seq2 = \"\"\n",
    "    pattern = \"\"\n",
    "    paths = alignment.path\n",
    "    start1, start2 = paths[0]\n",
    "    for end1, end2 in paths[1:]:\n",
    "        if end1 == start1:\n",
    "            gap = end2 - start2\n",
    "            aligned_seq1 += \"-\" * gap\n",
    "            aligned_seq2 += seq2[start2:end2]\n",
    "            pattern += \"-\" * gap\n",
    "        elif end2 == start2:\n",
    "            gap = end1 - start1\n",
    "            aligned_seq1 += seq1[start1:end1]\n",
    "            aligned_seq2 += \"-\" * gap\n",
    "            pattern += \"-\" * gap\n",
    "        else:\n",
    "            s1 = seq1[start1:end1]\n",
    "            s2 = seq2[start2:end2]\n",
    "            if len(s1) != len(s2):\n",
    "                raise ValueError(\"Unequal step sizes in alignment\")\n",
    "            aligned_seq1 += s1\n",
    "            aligned_seq2 += s2\n",
    "            for c1, c2 in zip(s1, s2):\n",
    "                if c1 == c2:\n",
    "                    pattern += \"|\"\n",
    "                else:\n",
    "                    pattern += \".\"\n",
    "        start1 = end1\n",
    "        start2 = end2\n",
    "    print(f\"Score: {alignment.score}\")\n",
    "    print(f\"Target {paths[0][0]:6} {nucolored(aligned_seq1)}\")\n",
    "    print(f\"{' '*14}{pattern}\")\n",
    "    print(f\"Query  {paths[0][1]:6} {nucolored(aligned_seq2)}\")\n",
    "    \n",
    "from IPython.core.display import HTML\n",
    "display(HTML(\"<style>pre { white-space: pre !important; }</style>\"))"
   ]
  },
  {
   "cell_type": "code",
   "execution_count": null,
   "id": "01261af6-dd3b-4a05-bed1-261f158faf69",
   "metadata": {},
   "outputs": [],
   "source": [
    "print_local_alignment(alignments[0])"
   ]
  },
  {
   "cell_type": "code",
   "execution_count": null,
   "id": "95d9b668-c462-45a5-8e49-e4796401793e",
   "metadata": {},
   "outputs": [],
   "source": []
  },
  {
   "cell_type": "code",
   "execution_count": null,
   "id": "e85d743b-9dd8-451f-8173-fb177e1a16a1",
   "metadata": {},
   "outputs": [],
   "source": [
    "scores = random_scores(1000, unknown.seq)"
   ]
  },
  {
   "cell_type": "code",
   "execution_count": null,
   "id": "20cb9bea-5391-4e85-869d-dfd0e8f48639",
   "metadata": {},
   "outputs": [],
   "source": [
    "import numpy as np\n",
    "import matplotlib.pyplot as plt\n",
    "%matplotlib inline\n",
    "\n",
    "# getting data of the histogram\n",
    "counts, bins_counts = np.histogram(scores, bins=10)\n",
    "plt.stairs(counts, bins_counts, fill=True)"
   ]
  },
  {
   "cell_type": "code",
   "execution_count": null,
   "id": "3c2310c3-b7f1-43cf-ad6e-f4006fd73194",
   "metadata": {},
   "outputs": [],
   "source": [
    "mean = np.mean(counts)\n",
    "std = np.std(counts)\n",
    "\n",
    "lamb = 1.2825/std\n",
    "khat = np.exp(lamb*mean - 0.5772)\n",
    "\n",
    "p_value = 1-np.exp(-khat*np.exp(-lamb*1723))\n",
    "e_value = khat*np.exp(-lamb*1723)\n",
    "\n",
    "print(f\"p value : {p_value}\")\n",
    "print(f\"e value : {e_value}\")"
   ]
  }
 ],
 "metadata": {
  "kernelspec": {
   "display_name": "Bing",
   "language": "python",
   "name": "bing"
  },
  "language_info": {
   "codemirror_mode": {
    "name": "ipython",
    "version": 3
   },
   "file_extension": ".py",
   "mimetype": "text/x-python",
   "name": "python",
   "nbconvert_exporter": "python",
   "pygments_lexer": "ipython3",
   "version": "3.8.0"
  }
 },
 "nbformat": 4,
 "nbformat_minor": 5
}
