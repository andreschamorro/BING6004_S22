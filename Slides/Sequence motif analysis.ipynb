{
 "cells": [
  {
   "cell_type": "markdown",
   "id": "4973cf42-50f3-4b7d-a873-5ad707ce7a9c",
   "metadata": {},
   "source": [
    "Sequence motif analysis using Bio.motifs\n",
    "========================================\n",
    "\n",
    "This Demo gives an overview of the functionality of the `Bio.motifs`\n",
    "package included in Biopython. Most of this notebook describes the new `Bio.motifs` package included in Biopython onwards.\n",
    "\n",
    "Speaking of other libraries, if you are reading this you might be\n",
    "interested in [TAMO](http://fraenkel.mit.edu/TAMO/), another python\n",
    "library designed to deal with sequence motifs. It supports more\n",
    "*de-novo* motif finders, but it is not a part of Biopython and has some\n",
    "restrictions on commercial use.\n",
    "\n",
    "Motif objects\n",
    "-------------\n",
    "\n",
    "Since we are interested in motif analysis, we need to take a look at\n",
    "`Motif` objects in the first place. For that we need to import the\n",
    "Bio.motifs library:"
   ]
  },
  {
   "cell_type": "code",
   "execution_count": 1,
   "id": "06faa555-7d56-4991-870c-d823e592dd19",
   "metadata": {},
   "outputs": [],
   "source": [
    "from Bio import motifs"
   ]
  },
  {
   "cell_type": "markdown",
   "id": "8fc2f4cf-a3c4-4825-af8b-a0140e3dc903",
   "metadata": {},
   "source": [
    "\n",
    "and we can start creating our first motif objects. We can either create\n",
    "a `Motif` object from a list of instances of the motif, or we can obtain\n",
    "a `Motif` object by parsing a file from a motif database or motif\n",
    "finding software.\n",
    "\n",
    "### Creating a motif from instances\n",
    "\n",
    "Suppose we have these instances of a DNA motif:"
   ]
  },
  {
   "cell_type": "code",
   "execution_count": 2,
   "id": "a85f7f32-cf99-43c2-8472-b3f1e19bb8ea",
   "metadata": {},
   "outputs": [],
   "source": [
    "from Bio.Seq import Seq\n",
    "instances = [Seq(\"TACAA\"),\n",
    "    Seq(\"TACGC\"),\n",
    "    Seq(\"TACAC\"),\n",
    "    Seq(\"TACCC\"),\n",
    "    Seq(\"AACCC\"),\n",
    "    Seq(\"AATGC\"),\n",
    "    Seq(\"AATGC\")]"
   ]
  },
  {
   "cell_type": "markdown",
   "id": "057734f8-2563-4979-8427-675331924521",
   "metadata": {},
   "source": [
    "then we can create a Motif object as follows:"
   ]
  },
  {
   "cell_type": "code",
   "execution_count": 3,
   "id": "063ce9d5-093c-4633-afb9-3cbf64451126",
   "metadata": {},
   "outputs": [],
   "source": [
    "m = motifs.create(instances)"
   ]
  },
  {
   "cell_type": "markdown",
   "id": "6cf43946-5ef1-4c38-8890-6556e7c8551b",
   "metadata": {},
   "source": [
    "The instances are saved in an attribute `m.instances`, which is\n",
    "essentially a Python list with some added functionality, as described\n",
    "below. Printing out the Motif object shows the instances from which it\n",
    "was constructed:"
   ]
  },
  {
   "cell_type": "code",
   "execution_count": 5,
   "id": "b9a3d939-d3fd-4c5e-a3b4-8944b16c5f05",
   "metadata": {},
   "outputs": [
    {
     "name": "stdout",
     "output_type": "stream",
     "text": [
      "TACAA\n",
      "TACGC\n",
      "TACAC\n",
      "TACCC\n",
      "AACCC\n",
      "AATGC\n",
      "AATGC\n",
      "\n"
     ]
    }
   ],
   "source": [
    "print(m)"
   ]
  },
  {
   "cell_type": "markdown",
   "id": "1375e2c6-460c-4ae9-9fa2-675dc5897f4c",
   "metadata": {},
   "source": [
    "The length of the motif is defined as the sequence length, which should\n",
    "be the same for all instances:"
   ]
  },
  {
   "cell_type": "code",
   "execution_count": 6,
   "id": "baa97ffd-3039-4321-801f-06931a8c6f91",
   "metadata": {},
   "outputs": [
    {
     "data": {
      "text/plain": [
       "5"
      ]
     },
     "execution_count": 6,
     "metadata": {},
     "output_type": "execute_result"
    }
   ],
   "source": [
    "len(m)"
   ]
  },
  {
   "cell_type": "markdown",
   "id": "f5b131c2-74e6-41fa-8326-1502736828fc",
   "metadata": {},
   "source": [
    "The Motif object has an attribute `.counts` containing the counts of\n",
    "each nucleotide at each position. Printing this counts matrix shows it\n",
    "in an easily readable format:"
   ]
  },
  {
   "cell_type": "code",
   "execution_count": 7,
   "id": "09490f35-1967-4dac-9a6a-469c4383d99a",
   "metadata": {},
   "outputs": [
    {
     "name": "stdout",
     "output_type": "stream",
     "text": [
      "        0      1      2      3      4\n",
      "A:   3.00   7.00   0.00   2.00   1.00\n",
      "C:   0.00   0.00   5.00   2.00   6.00\n",
      "G:   0.00   0.00   0.00   3.00   0.00\n",
      "T:   4.00   0.00   2.00   0.00   0.00\n",
      "\n"
     ]
    }
   ],
   "source": [
    "print(m.counts)"
   ]
  },
  {
   "cell_type": "markdown",
   "id": "d2d5b940-375c-4dc3-b9e7-a2c71f422149",
   "metadata": {},
   "source": [
    "You can access these counts as a dictionary:"
   ]
  },
  {
   "cell_type": "code",
   "execution_count": 8,
   "id": "280a30c0-ca69-408e-87e6-b1234c226efb",
   "metadata": {},
   "outputs": [
    {
     "data": {
      "text/plain": [
       "[3, 7, 0, 2, 1]"
      ]
     },
     "execution_count": 8,
     "metadata": {},
     "output_type": "execute_result"
    }
   ],
   "source": [
    "m.counts['A']"
   ]
  },
  {
   "cell_type": "code",
   "execution_count": 9,
   "id": "970f9151-c30b-4807-8a19-3c30209f5724",
   "metadata": {},
   "outputs": [
    {
     "data": {
      "text/plain": [
       "4"
      ]
     },
     "execution_count": 9,
     "metadata": {},
     "output_type": "execute_result"
    }
   ],
   "source": [
    "m.counts['T', 0]"
   ]
  },
  {
   "cell_type": "markdown",
   "id": "5dba1541-6b3d-4bb0-be13-0826a927fd18",
   "metadata": {},
   "source": [
    "You can also directly access columns of the counts matrix"
   ]
  },
  {
   "cell_type": "code",
   "execution_count": 10,
   "id": "d4e8a1f8-d89b-4546-8d6e-3d3b15dcfde5",
   "metadata": {},
   "outputs": [
    {
     "data": {
      "text/plain": [
       "{'A': 2, 'C': 2, 'G': 3, 'T': 0}"
      ]
     },
     "execution_count": 10,
     "metadata": {},
     "output_type": "execute_result"
    }
   ],
   "source": [
    "m.counts[:, 3]"
   ]
  },
  {
   "cell_type": "code",
   "execution_count": 11,
   "id": "f31e66fd-11b2-47ce-a6ca-0aeeda4f9e74",
   "metadata": {},
   "outputs": [
    {
     "data": {
      "text/plain": [
       "'ACGT'"
      ]
     },
     "execution_count": 11,
     "metadata": {},
     "output_type": "execute_result"
    }
   ],
   "source": [
    "m.alphabet"
   ]
  },
  {
   "cell_type": "markdown",
   "id": "da1795c8-423b-4651-a2d6-bdb1cecf29db",
   "metadata": {},
   "source": [
    "The motif has an associated consensus sequence, defined as the sequence\n",
    "of letters along the positions of the motif for which the largest value\n",
    "in the corresponding columns of the `.counts` matrix is obtained:"
   ]
  },
  {
   "cell_type": "code",
   "execution_count": 12,
   "id": "5fdfcc3a-3c20-4d9d-af3d-0bb8ce67eb99",
   "metadata": {},
   "outputs": [
    {
     "data": {
      "text/plain": [
       "Seq('TACGC')"
      ]
     },
     "execution_count": 12,
     "metadata": {},
     "output_type": "execute_result"
    }
   ],
   "source": [
    "m.consensus"
   ]
  },
  {
   "cell_type": "markdown",
   "id": "2eea78ab-ca7a-48eb-934d-21461bcb0512",
   "metadata": {},
   "source": [
    "as well as an anticonsensus sequence, corresponding to the smallest\n",
    "values in the columns of the `.counts` matrix:"
   ]
  },
  {
   "cell_type": "code",
   "execution_count": 13,
   "id": "3a809561-9155-477b-b263-a399130ac3d6",
   "metadata": {},
   "outputs": [
    {
     "data": {
      "text/plain": [
       "Seq('CCATG')"
      ]
     },
     "execution_count": 13,
     "metadata": {},
     "output_type": "execute_result"
    }
   ],
   "source": [
    "m.anticonsensus"
   ]
  },
  {
   "cell_type": "code",
   "execution_count": 14,
   "id": "1e843a01-4616-4813-aa5c-bafe47a87a47",
   "metadata": {},
   "outputs": [
    {
     "data": {
      "text/plain": [
       "Seq('WACVC')"
      ]
     },
     "execution_count": 14,
     "metadata": {},
     "output_type": "execute_result"
    }
   ],
   "source": [
    "m.degenerate_consensus"
   ]
  },
  {
   "cell_type": "markdown",
   "id": "fc038a19-b2ab-4fa8-9a8a-7a953b8ad7fe",
   "metadata": {},
   "source": [
    "Here, W and R follow the IUPAC nucleotide ambiguity codes: W is either A or T, and V is A, C, or G @cornish1985. The degenerate consensus sequence is constructed following the rules specified by Cavener @cavener1987."
   ]
  },
  {
   "cell_type": "markdown",
   "id": "fbedcb80-cba6-41d0-9963-109cbe0179b1",
   "metadata": {},
   "source": [
    "We can also get the reverse complement of a motif:"
   ]
  },
  {
   "cell_type": "code",
   "execution_count": 15,
   "id": "a69a237f-c2ae-4067-9c31-e82a254a2f9e",
   "metadata": {},
   "outputs": [
    {
     "data": {
      "text/plain": [
       "Seq('GCGTA')"
      ]
     },
     "execution_count": 15,
     "metadata": {},
     "output_type": "execute_result"
    }
   ],
   "source": [
    "r = m.reverse_complement()\n",
    "r.consensus"
   ]
  },
  {
   "cell_type": "code",
   "execution_count": 16,
   "id": "630882bc-d6cc-4fb4-a205-c8f19faba965",
   "metadata": {},
   "outputs": [
    {
     "name": "stdout",
     "output_type": "stream",
     "text": [
      "TTGTA\n",
      "GCGTA\n",
      "GTGTA\n",
      "GGGTA\n",
      "GGGTT\n",
      "GCATT\n",
      "GCATT\n",
      "\n"
     ]
    }
   ],
   "source": [
    "print(r)"
   ]
  },
  {
   "cell_type": "markdown",
   "id": "94e19830-58fc-4edd-bbb8-53b74ab5acad",
   "metadata": {},
   "source": [
    "The reverse complement and the degenerate consensus sequence are only\n",
    "defined for DNA motifs.\n",
    "\n",
    "### Creating a sequence logo"
   ]
  },
  {
   "cell_type": "markdown",
   "id": "c6bb7ca0-ca5d-4b2e-94af-992eea065e34",
   "metadata": {},
   "source": [
    "\n",
    "We should get our logo saved as a PNG in the specified file.\n",
    "\n",
    "Reading motifs\n",
    "--------------\n",
    "\n",
    "Creating motifs from instances by hand is a bit boring, so it’s useful\n",
    "to have some I/O functions for reading and writing motifs. There are not\n",
    "any really well established standards for storing motifs, but there are\n",
    "a couple of formats that are more used than others.\n",
    "\n",
    "### JASPAR\n",
    "\n",
    "One of the most popular motif databases is\n",
    "[JASPAR](http://jaspar.genereg.net). In addition to the motif sequence\n",
    "information, the JASPAR database stores a lot of meta-information for\n",
    "each motif. The module `Bio.motifs` contains a specialized class\n",
    "`jaspar.Motif` in which this meta-information is represented as\n",
    "attributes:\n",
    "\n",
    "-   `matrix_id` - the unique JASPAR motif ID, e.g. ’MA0004.1’\n",
    "\n",
    "-   `name` - the name of the TF, e.g. ’Arnt’\n",
    "\n",
    "-   `collection` - the JASPAR collection to which the motif\n",
    "    belongs, e.g. ’CORE’\n",
    "\n",
    "-   `tf_class` - the structual class of this TF, e.g. ’Zipper-Type’\n",
    "\n",
    "-   `tf_family` - the family to which this TF belongs, e.g.\n",
    "    ’Helix-Loop-Helix’\n",
    "\n",
    "-   `species` - the species to which this TF belongs, may have multiple\n",
    "    values, these are specified as taxonomy IDs, e.g. 10090\n",
    "\n",
    "-   `tax_group` - the taxonomic supergroup to which this motif\n",
    "    belongs, e.g. ’vertebrates’\n",
    "\n",
    "-   `acc` - the accession number of the TF protein, e.g. ’P53762’\n",
    "\n",
    "-   `data_type` - the type of data used to construct this motif, e.g.\n",
    "    ’SELEX’\n",
    "\n",
    "-   `medline` - the Pubmed ID of literature supporting this motif, may\n",
    "    be multiple values, e.g. 7592839\n",
    "\n",
    "-   `pazar_id` - external reference to the TF in the\n",
    "    [PAZAR](http://pazar.info) database, e.g. ’TF0000003’\n",
    "\n",
    "-   `comment` - free form text containing notes about the construction\n",
    "    of the motif\n",
    "\n",
    "The `jaspar.Motif` class inherits from the generic `Motif` class and\n",
    "therefore provides all the facilities of any of the motif formats —\n",
    "reading motifs, writing motifs, scanning sequences for motif instances\n",
    "etc.\n",
    "\n",
    "JASPAR stores motifs in several different ways including three different\n",
    "flat file formats and as an SQL database. All of these formats\n",
    "facilitate the construction of a counts matrix. However, the amount of\n",
    "meta information described above that is available varies with the\n",
    "format.\n",
    "\n",
    "#### The JASPAR `sites` format\n",
    "\n",
    "The first of the three flat file formats contains a list of instances.\n",
    "As an example, these are the beginning and ending lines of the JASPAR\n",
    "`Arnt.sites` file showing known binding sites of the mouse\n",
    "helix-loop-helix transcription factor Arnt."
   ]
  },
  {
   "cell_type": "markdown",
   "id": "2310c503-9a92-4273-9a5a-6e8ee88b6367",
   "metadata": {},
   "source": [
    "```\n",
    ">MA0004 ARNT 1\n",
    "CACGTGatgtcctc\n",
    ">MA0004 ARNT 2\n",
    "CACGTGggaggtac\n",
    ">MA0004 ARNT 3\n",
    "CACGTGccgcgcgc\n",
    "...\n",
    ">MA0004 ARNT 18\n",
    "AACGTGacagccctcc\n",
    ">MA0004 ARNT 19\n",
    "AACGTGcacatcgtcc\n",
    ">MA0004 ARNT 20\n",
    "aggaatCGCGTGc\n",
    "\n",
    "```"
   ]
  },
  {
   "cell_type": "markdown",
   "id": "a133d70f-82f3-4102-8c7b-45457ae20767",
   "metadata": {},
   "source": [
    "The parts of the sequence in capital letters are the motif instances\n",
    "that were found to align to each other.\n",
    "\n",
    "We can create a `Motif` object from these instances as follows:"
   ]
  },
  {
   "cell_type": "code",
   "execution_count": 18,
   "id": "1e473d57-a838-400e-8e4f-00baafcfb071",
   "metadata": {},
   "outputs": [],
   "source": [
    "from Bio import motifs\n",
    "with open(\"../data/Arnt.sites\") as handle:\n",
    "    arnt = motifs.read(handle, \"sites\")"
   ]
  },
  {
   "cell_type": "markdown",
   "id": "5eec257a-53ab-440d-a0c6-143b8f291232",
   "metadata": {},
   "source": [
    "The instances from which this motif was created is stored in the\n",
    "`.instances` property:"
   ]
  },
  {
   "cell_type": "code",
   "execution_count": 19,
   "id": "fd412561-f9b1-4946-b850-f314b37b8c7e",
   "metadata": {},
   "outputs": [
    {
     "name": "stdout",
     "output_type": "stream",
     "text": [
      "20\n"
     ]
    }
   ],
   "source": [
    "print(len(arnt.instances))"
   ]
  },
  {
   "cell_type": "code",
   "execution_count": 20,
   "id": "4c084de1-b960-41d8-89ef-39728553d5b0",
   "metadata": {
    "collapsed": true,
    "jupyter": {
     "outputs_hidden": true
    },
    "tags": []
   },
   "outputs": [
    {
     "name": "stdout",
     "output_type": "stream",
     "text": [
      "CACGTG\n",
      "CACGTG\n",
      "CACGTG\n",
      "CACGTG\n",
      "CACGTG\n",
      "CACGTG\n",
      "CACGTG\n",
      "CACGTG\n",
      "CACGTG\n",
      "CACGTG\n",
      "CACGTG\n",
      "CACGTG\n",
      "CACGTG\n",
      "CACGTG\n",
      "CACGTG\n",
      "AACGTG\n",
      "AACGTG\n",
      "AACGTG\n",
      "AACGTG\n",
      "CGCGTG\n"
     ]
    }
   ],
   "source": [
    "for instance in arnt.instances:\n",
    "    print(instance)"
   ]
  },
  {
   "cell_type": "markdown",
   "id": "65928b0e-e339-429e-acd1-6ffc1871cf7a",
   "metadata": {},
   "source": [
    "The counts matrix of this motif is automatically calculated from the\n",
    "instances:"
   ]
  },
  {
   "cell_type": "code",
   "execution_count": 22,
   "id": "9a12e4c5-eb9a-42a9-82e8-7e0e6f8558ed",
   "metadata": {},
   "outputs": [
    {
     "name": "stdout",
     "output_type": "stream",
     "text": [
      "        0      1      2      3      4      5\n",
      "A:   4.00  19.00   0.00   0.00   0.00   0.00\n",
      "C:  16.00   0.00  20.00   0.00   0.00   0.00\n",
      "G:   0.00   1.00   0.00  20.00   0.00  20.00\n",
      "T:   0.00   0.00   0.00   0.00  20.00   0.00\n",
      "\n"
     ]
    }
   ],
   "source": [
    "print(arnt.counts)"
   ]
  },
  {
   "cell_type": "code",
   "execution_count": 28,
   "id": "44a62352-5751-4745-90b9-147112c3c8b0",
   "metadata": {},
   "outputs": [],
   "source": [
    "import re\n",
    "import copy\n",
    "from Bio import SeqIO\n",
    "\n",
    "class MsView():\n",
    "    def __init__(self, fasta_file, plot_width=80):\n",
    "        self.fasta_file = fasta_file\n",
    "        self.plot_width = plot_width\n",
    "        self._bg = None\n",
    "        self.records = None\n",
    "        self.from_file()\n",
    "        \n",
    "    def from_file(self, fasta_file=None, frm = 'fasta'):\n",
    "        if fasta_file is not None:\n",
    "            self.fasta_file = fasta_file\n",
    "        with open(self.fasta_file) as handle:\n",
    "            self.records = [record for record in SeqIO.parse(handle, frm)]\n",
    "            self._alignment_length = max([len(record.seq) for record in self.records])\n",
    "        self.set_bg()\n",
    "    \n",
    "    def set_bg(self):\n",
    "        bg_c = {\n",
    "            'A': 10,\n",
    "            'C': 11,\n",
    "            'G': 12,\n",
    "            'T': 9,\n",
    "            'U': 9\n",
    "        }\n",
    "        self._bg = []\n",
    "        for seq in self.records:\n",
    "            self._bg.append([bg_c.get(n, 255) for n in seq.seq])\n",
    "            \n",
    "    def to_str(self, pattern=''):\n",
    "        tmp_str = []\n",
    "        bg_copy = copy.deepcopy(self._bg)\n",
    "        try:\n",
    "            regex = re.compile(pattern, re.I)\n",
    "        except:\n",
    "            regex = re.compile('', re.I)\n",
    "        for i, seq in enumerate(self.records):\n",
    "            for m in regex.finditer(str(seq.seq)):\n",
    "                for j in range(m.start(),m.end()):\n",
    "                    bg_copy[i][j] = 245\n",
    "                    \n",
    "        num_blks = self._alignment_length // self.plot_width\n",
    "        for i_b in range(num_blks):\n",
    "            b_start = i_b*self.plot_width\n",
    "            b_end = (i_b + 1)*self.plot_width\n",
    "            tmp_str.append(\"{:03d}{}{:03d}\\n\".format(b_start, (self.plot_width-6)*'.', b_end))\n",
    "            for seq, bgs in zip(self.records, bg_copy):\n",
    "                for n, bg in zip(seq[b_start: b_end], bgs[b_start: b_end]):\n",
    "                    tmp_str.append(f\"\\033[48;5;{bg}m{n}\")\n",
    "                tmp_str.append(\"\\033[0;0m\\n\")\n",
    "            tmp_str.append(\"\\n\")\n",
    "        return \"\".join(tmp_str)\n",
    "    \n",
    "    def view(self, pattern=''):\n",
    "        print(self.to_str(pattern))\n",
    "\n",
    "    def __str__(self):\n",
    "        return self.to_str()"
   ]
  },
  {
   "cell_type": "code",
   "execution_count": 45,
   "id": "0c775791-0f29-4312-8bd1-3a6cb509fbae",
   "metadata": {},
   "outputs": [
    {
     "data": {
      "application/vnd.jupyter.widget-view+json": {
       "model_id": "0da504dc8a3d499894b82aaccc4c0187",
       "version_major": 2,
       "version_minor": 0
      },
      "text/plain": [
       "VBox(children=(VBox(children=(Text(value='../data/motif_sample.fasta', description='File:', placeholder='Fasta…"
      ]
     },
     "metadata": {},
     "output_type": "display_data"
    }
   ],
   "source": [
    "from ipywidgets import interact, widgets\n",
    "from IPython.display import display\n",
    "\n",
    "fas = widgets.Text(\n",
    "    value='../data/motif_sample.fasta',\n",
    "    placeholder='Fasta file',\n",
    "    description='File:',\n",
    "    disabled=False\n",
    ")\n",
    "\n",
    "pattern = widgets.Text(\n",
    "    value='',\n",
    "    placeholder='Pattern to search',\n",
    "    description='Pattern:',\n",
    "    disabled=False\n",
    ")\n",
    "\n",
    "msview = MsView(fas.value)\n",
    "out = widgets.interactive_output(msview.view, {'pattern': pattern})\n",
    "widgets.VBox([widgets.VBox([fas, pattern]), out])"
   ]
  },
  {
   "cell_type": "code",
   "execution_count": null,
   "id": "025b6ed1-338f-40bc-8d77-6f2cea8c29f7",
   "metadata": {},
   "outputs": [],
   "source": []
  }
 ],
 "metadata": {
  "kernelspec": {
   "display_name": "Bing",
   "language": "python",
   "name": "bing"
  },
  "language_info": {
   "codemirror_mode": {
    "name": "ipython",
    "version": 3
   },
   "file_extension": ".py",
   "mimetype": "text/x-python",
   "name": "python",
   "nbconvert_exporter": "python",
   "pygments_lexer": "ipython3",
   "version": "3.8.0"
  }
 },
 "nbformat": 4,
 "nbformat_minor": 5
}
