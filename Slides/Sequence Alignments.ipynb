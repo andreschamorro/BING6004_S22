{
 "cells": [
  {
   "cell_type": "markdown",
   "id": "cabeb90f-7790-44e6-b36d-6402b9753539",
   "metadata": {},
   "source": [
    "### PairwiseAligner\n",
    "\n",
    "The Bio.Align.PairwiseAligner Class implements the Needleman-Wunsch, Smith-Waterman, Gotoh (three-state), and Waterman-Smith-Beyer global and local pairwise alignment algorithms. For an in-depth consultation of the algorithms, you can consult Durbin et al. [1]."
   ]
  },
  {
   "cell_type": "markdown",
   "id": "c91fc2b6-ba31-4276-abb5-98b98129dbfc",
   "metadata": {},
   "source": [
    "#### Basic usage"
   ]
  },
  {
   "cell_type": "code",
   "execution_count": 1,
   "id": "ba73473d-3076-4919-a8b1-9732800eb8c9",
   "metadata": {
    "collapsed": true,
    "jupyter": {
     "outputs_hidden": true
    },
    "tags": []
   },
   "outputs": [
    {
     "name": "stdout",
     "output_type": "stream",
     "text": [
      "G-ATTA-CA\n",
      "|-||---||\n",
      "GCAT--GCA\n",
      "\n",
      "G-ATTA-CA\n",
      "|-|-|--||\n",
      "GCA-T-GCA\n",
      "\n",
      "G-ATT-ACA\n",
      "|-||---||\n",
      "GCAT-G-CA\n",
      "\n",
      "G-ATT-ACA\n",
      "|-|-|--||\n",
      "GCA-TG-CA\n",
      "\n",
      "G-AT-TACA\n",
      "|-||---||\n",
      "GCATG--CA\n",
      "\n",
      "G-ATTACA\n",
      "|-||.-||\n",
      "GCATG-CA\n",
      "\n",
      "G-ATTACA\n",
      "|-||-.||\n",
      "GCAT-GCA\n",
      "\n",
      "G-ATTACA\n",
      "|-|-|.||\n",
      "GCA-TGCA\n",
      "\n"
     ]
    },
    {
     "data": {
      "text/plain": [
       "5.0"
      ]
     },
     "execution_count": 1,
     "metadata": {},
     "output_type": "execute_result"
    }
   ],
   "source": [
    "from Bio import Align\n",
    "aligner = Align.PairwiseAligner()\n",
    "\n",
    "seq1 = \"GATTACA\"\n",
    "seq2 = \"GCATGCA\"\n",
    "\n",
    "alignments = aligner.align(seq1, seq2)\n",
    "for alignment in alignments:\n",
    "    print(alignment)\n",
    "\n",
    "score = aligner.score(seq1, seq2)\n",
    "score"
   ]
  },
  {
   "cell_type": "markdown",
   "id": "9d9a6d30-9d62-484f-938d-9b36e45300c5",
   "metadata": {},
   "source": [
    "By default, a global pairwise alignment is performed, which finds the optimal alignment over the whole length of seq1 and seq2."
   ]
  },
  {
   "cell_type": "code",
   "execution_count": 7,
   "id": "e86e5aac-dac8-4bf4-a59a-2f4d39ec3cd2",
   "metadata": {},
   "outputs": [
    {
     "name": "stdout",
     "output_type": "stream",
     "text": [
      "Pairwise sequence aligner with parameters\n",
      "  wildcard: None\n",
      "  match_score: 1.000000\n",
      "  mismatch_score: 0.000000\n",
      "  target_internal_open_gap_score: 0.000000\n",
      "  target_internal_extend_gap_score: 0.000000\n",
      "  target_left_open_gap_score: 0.000000\n",
      "  target_left_extend_gap_score: 0.000000\n",
      "  target_right_open_gap_score: 0.000000\n",
      "  target_right_extend_gap_score: 0.000000\n",
      "  query_internal_open_gap_score: 0.000000\n",
      "  query_internal_extend_gap_score: 0.000000\n",
      "  query_left_open_gap_score: 0.000000\n",
      "  query_left_extend_gap_score: 0.000000\n",
      "  query_right_open_gap_score: 0.000000\n",
      "  query_right_extend_gap_score: 0.000000\n",
      "  mode: global\n",
      "\n"
     ]
    }
   ],
   "source": [
    "print(aligner)"
   ]
  },
  {
   "cell_type": "markdown",
   "id": "824b37ad-57a1-449d-be24-1d27d4565c36",
   "metadata": {},
   "source": [
    "Depending on the gap scoring parameters and mode, a PairwiseAligner object automatically chooses the appropriate algorithm to use for pairwise sequence alignment."
   ]
  },
  {
   "cell_type": "code",
   "execution_count": null,
   "id": "b2039fb5-8d69-462d-b103-d43d8e9a07b5",
   "metadata": {},
   "outputs": [],
   "source": [
    "if not (target_gap_function || query_gap_function)\n",
    "\n",
    "target_gap_open == target_gap_extend\n",
    "&& query_gap_open == query_gap_extend\n",
    "&& target_left_open == target_left_extend\n",
    "&& target_right_open == target_right_extend\n",
    "&& query_left_open == query_left_extend\n",
    "&& query_right_open == query_right_extend"
   ]
  },
  {
   "cell_type": "code",
   "execution_count": 6,
   "id": "e1761ed1-6c05-4460-b847-3e7b2209eef0",
   "metadata": {},
   "outputs": [
    {
     "name": "stdout",
     "output_type": "stream",
     "text": [
      "Needleman-Wunsch\n"
     ]
    }
   ],
   "source": [
    "print(aligner.algorithm)"
   ]
  },
  {
   "cell_type": "code",
   "execution_count": 9,
   "id": "286330b1-bd95-4b96-a920-046f6c58bfb4",
   "metadata": {},
   "outputs": [
    {
     "name": "stdout",
     "output_type": "stream",
     "text": [
      "Smith-Waterman\n"
     ]
    }
   ],
   "source": [
    "aligner.mode = 'local'\n",
    "print(aligner.algorithm)"
   ]
  },
  {
   "cell_type": "code",
   "execution_count": 9,
   "id": "028e4a32-09b3-4b4a-a862-4a9159aab63e",
   "metadata": {},
   "outputs": [],
   "source": [
    "aligner.match_score = 5\n",
    "aligner.mismatch_score = -3\n",
    "aligner.extend_gap_score = -3\n",
    "aligner.gap_score = -3"
   ]
  },
  {
   "cell_type": "code",
   "execution_count": 10,
   "id": "b6bbc48b-7ec7-4573-bb8b-55aa721f2bba",
   "metadata": {},
   "outputs": [
    {
     "name": "stdout",
     "output_type": "stream",
     "text": [
      "G-ATTACA\n",
      "|-||.-||\n",
      "GCATG-CA\n",
      "\n",
      "G-ATTACA\n",
      "|-||-.||\n",
      "GCAT-GCA\n",
      "\n",
      "G-ATTACA\n",
      "|-|-|.||\n",
      "GCA-TGCA\n",
      "\n"
     ]
    }
   ],
   "source": [
    "alignments = aligner.align(seq1, seq2)\n",
    "for alignment in alignments:\n",
    "    print(alignment)"
   ]
  },
  {
   "cell_type": "markdown",
   "id": "4d657025-2ce8-4a7f-a146-b579c32bbe21",
   "metadata": {},
   "source": [
    "#### Alignment objects"
   ]
  },
  {
   "cell_type": "code",
   "execution_count": 13,
   "id": "1ba400d7-97f5-435c-9c75-a3374bc40a04",
   "metadata": {},
   "outputs": [
    {
     "data": {
      "text/plain": [
       "<Bio.Align.PairwiseAlignment at 0x7ff404226400>"
      ]
     },
     "execution_count": 13,
     "metadata": {},
     "output_type": "execute_result"
    }
   ],
   "source": [
    "aligner = Align.PairwiseAligner()\n",
    "seq1 = \"GATTACA\"\n",
    "seq2 = \"GCATGCA\"\n",
    "alignments = aligner.align(seq1, seq2)\n",
    "alignment = alignments[0]\n",
    "alignment"
   ]
  },
  {
   "cell_type": "code",
   "execution_count": 14,
   "id": "21e1b31c-d927-4e04-913f-09c38e64404b",
   "metadata": {},
   "outputs": [
    {
     "data": {
      "text/plain": [
       "3.0"
      ]
     },
     "execution_count": 14,
     "metadata": {},
     "output_type": "execute_result"
    }
   ],
   "source": [
    "alignment.score"
   ]
  },
  {
   "cell_type": "code",
   "execution_count": 11,
   "id": "c0184d39-f0a4-4a28-8c58-fa7a9adcab90",
   "metadata": {},
   "outputs": [
    {
     "data": {
      "text/plain": [
       "'GATTACA'"
      ]
     },
     "execution_count": 11,
     "metadata": {},
     "output_type": "execute_result"
    }
   ],
   "source": [
    "alignment.target"
   ]
  },
  {
   "cell_type": "code",
   "execution_count": 16,
   "id": "d239bc72-6453-4f94-8487-3e1158bd2d9d",
   "metadata": {},
   "outputs": [
    {
     "name": "stdout",
     "output_type": "stream",
     "text": [
      "GAACT\n",
      "||--|\n",
      "GA--T\n",
      "\n"
     ]
    }
   ],
   "source": [
    "print(alignment)"
   ]
  },
  {
   "cell_type": "code",
   "execution_count": 17,
   "id": "02ff65ff-cb67-4c24-b149-74f0d6cc8921",
   "metadata": {},
   "outputs": [
    {
     "data": {
      "text/plain": [
       "(2, 5)"
      ]
     },
     "execution_count": 17,
     "metadata": {},
     "output_type": "execute_result"
    }
   ],
   "source": [
    "alignment.shape"
   ]
  },
  {
   "cell_type": "code",
   "execution_count": 18,
   "id": "b14598a2-77da-4c12-9415-c9db5a7a7798",
   "metadata": {},
   "outputs": [
    {
     "name": "stdout",
     "output_type": "stream",
     "text": [
      "TGAACT\n",
      " ||-|\n",
      " GA-C\n",
      "\n"
     ]
    }
   ],
   "source": [
    "aligner.mode = 'local'\n",
    "local_alignments = aligner.align(\"TGAACT\", \"GAC\")\n",
    "local_alignment = local_alignments[0]\n",
    "print(local_alignment)"
   ]
  },
  {
   "cell_type": "code",
   "execution_count": 19,
   "id": "e7a35b0e-443a-463b-b57e-1215a8f59b61",
   "metadata": {},
   "outputs": [
    {
     "data": {
      "text/plain": [
       "(2, 4)"
      ]
     },
     "execution_count": 19,
     "metadata": {},
     "output_type": "execute_result"
    }
   ],
   "source": [
    "local_alignment.shape"
   ]
  },
  {
   "cell_type": "code",
   "execution_count": 20,
   "id": "51f0b084-47cc-447a-a8f4-aa4b3a908279",
   "metadata": {},
   "outputs": [
    {
     "data": {
      "text/plain": [
       "2"
      ]
     },
     "execution_count": 20,
     "metadata": {},
     "output_type": "execute_result"
    }
   ],
   "source": [
    "aligner.mode = \"global\"\n",
    "aligner.mismatch_score = -10\n",
    "aligner.extend_gap_score = -10\n",
    "alignments = aligner.align(\"AAACAAA\", \"AAAGAAA\")\n",
    "len(alignments)"
   ]
  },
  {
   "cell_type": "code",
   "execution_count": 21,
   "id": "b9f26a30-2bd3-4028-a6ff-0e6e7282f7b1",
   "metadata": {},
   "outputs": [
    {
     "name": "stdout",
     "output_type": "stream",
     "text": [
      "AAAC-AAA\n",
      "|||--|||\n",
      "AAA-GAAA\n",
      "\n"
     ]
    }
   ],
   "source": [
    "print(alignments[0])"
   ]
  },
  {
   "cell_type": "markdown",
   "id": "46139681-771d-4ebe-873e-a5e0041b8278",
   "metadata": {},
   "source": [
    "Use the substitutions method to find the number of substitutions between each pair of nucleotides:"
   ]
  },
  {
   "cell_type": "code",
   "execution_count": 22,
   "id": "151d6ccc-2819-49c4-a8f2-0435e28d8ea8",
   "metadata": {},
   "outputs": [
    {
     "data": {
      "text/plain": [
       "8"
      ]
     },
     "execution_count": 22,
     "metadata": {},
     "output_type": "execute_result"
    }
   ],
   "source": [
    "target = \"AAAAAAAACCCCCCCCGGGGGGGGTTTTTTTT\"\n",
    "query = \"AAAAAAACCCTCCCCGGCCGGGGTTTAGTTT\"\n",
    "alignments = aligner.align(target, query)\n",
    "aligner.mismatch_score = -1\n",
    "aligner.gap_score = -1\n",
    "aligner.extend_gap_score = -1\n",
    "# extent\n",
    "alignments = aligner.align(target, query)\n",
    "len(alignments)"
   ]
  },
  {
   "cell_type": "code",
   "execution_count": 23,
   "id": "40f559dd-b38c-4b5e-bb2c-2dbfc215eb5f",
   "metadata": {},
   "outputs": [
    {
     "name": "stdout",
     "output_type": "stream",
     "text": [
      "AAAAAAAACCCCCCCCGGGGGGGGTTTTTTTT\n",
      "|||||||-|||.||||||..|||||||..|||\n",
      "AAAAAAA-CCCTCCCCGGCCGGGGTTTAGTTT\n",
      "\n"
     ]
    }
   ],
   "source": [
    "print(alignments[0])"
   ]
  },
  {
   "cell_type": "code",
   "execution_count": 25,
   "id": "a25fe625-d3c4-491a-bd32-a558ba66f357",
   "metadata": {},
   "outputs": [
    {
     "name": "stdout",
     "output_type": "stream",
     "text": [
      "    A   C   G   T\n",
      "A 7.0 0.0 0.0 0.0\n",
      "C 0.0 7.0 0.0 1.0\n",
      "G 0.0 2.0 6.0 0.0\n",
      "T 1.0 0.0 1.0 6.0\n",
      "\n"
     ]
    }
   ],
   "source": [
    "print(alignments[0].substitutions)"
   ]
  },
  {
   "cell_type": "markdown",
   "id": "f82a9ca5-5cce-4395-b42b-6e9da5b3e4b4",
   "metadata": {},
   "source": [
    "### Calculating a substitution matrix from a pairwise sequence alignment"
   ]
  },
  {
   "cell_type": "code",
   "execution_count": 26,
   "id": "334b9e7b-08bc-487c-8c17-2dc05283b98b",
   "metadata": {},
   "outputs": [
    {
     "name": "stdout",
     "output_type": "stream",
     "text": [
      "Alignment with 7 rows and 906 columns\n",
      "TATACATTAAAGAAGGGGGATGCGGATAAATGGAAAGGCGAAAG...AGA gi|6273285|gb|AF191659.1|AF191\n",
      "TATACATTAAAGAAGGGGGATGCGGATAAATGGAAAGGCGAAAG...AGA gi|6273284|gb|AF191658.1|AF191\n",
      "TATACATTAAAGAAGGGGGATGCGGATAAATGGAAAGGCGAAAG...AGA gi|6273287|gb|AF191661.1|AF191\n",
      "TATACATAAAAGAAGGGGGATGCGGATAAATGGAAAGGCGAAAG...AGA gi|6273286|gb|AF191660.1|AF191\n",
      "TATACATTAAAGGAGGGGGATGCGGATAAATGGAAAGGCGAAAG...AGA gi|6273290|gb|AF191664.1|AF191\n",
      "TATACATTAAAGGAGGGGGATGCGGATAAATGGAAAGGCGAAAG...AGA gi|6273289|gb|AF191663.1|AF191\n",
      "TATACATTAAAGGAGGGGGATGCGGATAAATGGAAAGGCGAAAG...AGA gi|6273291|gb|AF191665.1|AF191\n"
     ]
    }
   ],
   "source": [
    "from Bio import AlignIO\n",
    "alignments = AlignIO.read(\"../data/opuntia.aln\", \"clustal\")\n",
    "print(alignments)"
   ]
  },
  {
   "cell_type": "code",
   "execution_count": 27,
   "id": "7360150a-54aa-4822-83e1-f7ed4b34c1fe",
   "metadata": {},
   "outputs": [
    {
     "name": "stdout",
     "output_type": "stream",
     "text": [
      "      A     C     G     T   N\n",
      "A 369.0   1.0   2.0   1.0 0.0\n",
      "C   1.0 117.0   1.0   1.0 0.0\n",
      "G   1.0   0.0 120.0   1.0 0.0\n",
      "T   2.0   2.0   1.0 271.0 1.0\n",
      "N   0.0   0.0   0.0   0.0 0.0\n",
      "\n"
     ]
    }
   ],
   "source": [
    "alignment = alignments[0]\n",
    "from Bio.Align.substitution_matrices import Array\n",
    "frequency = Array(\"ACGTN\", dims=2)\n",
    "seq1 = alignments[2].seq\n",
    "seq2 = alignments[-1].seq\n",
    "for c1, c2 in zip(seq1, seq2):\n",
    "    if (c1 in \"ACGTN\") & (c2 in \"ACGTN\"):\n",
    "        frequency[c1, c2] += 1\n",
    "print(frequency)"
   ]
  },
  {
   "cell_type": "code",
   "execution_count": 28,
   "id": "79c32264-cd70-452f-9b98-b03762c333d6",
   "metadata": {},
   "outputs": [
    {
     "name": "stdout",
     "output_type": "stream",
     "text": [
      "       A      C      G   N      T\n",
      "A 7814.0   15.0   19.0 2.5   22.0\n",
      "C   15.0 2473.0    6.0 0.5   22.5\n",
      "G   19.0    6.0 2548.0 2.0   12.0\n",
      "N    2.5    0.5    2.0 0.0    4.0\n",
      "T   22.0   22.5   12.0 4.0 5730.0\n",
      "\n"
     ]
    }
   ],
   "source": [
    "frequency = alignments.substitutions\n",
    "print(frequency)"
   ]
  },
  {
   "cell_type": "markdown",
   "id": "cb63f02d-f996-4041-a392-789129ad1436",
   "metadata": {},
   "source": [
    "We normalize against the total number to find the probability of each substitution, and create a symmetric matrix:"
   ]
  },
  {
   "cell_type": "code",
   "execution_count": 30,
   "id": "2f8279c1-e182-48f2-b2fb-e1ef03861ae8",
   "metadata": {},
   "outputs": [
    {
     "name": "stdout",
     "output_type": "stream",
     "text": [
      "       A      C      G      N      T\n",
      "A 0.4162 0.0008 0.0010 0.0001 0.0012\n",
      "C 0.0008 0.1317 0.0003 0.0000 0.0012\n",
      "G 0.0010 0.0003 0.1357 0.0001 0.0006\n",
      "N 0.0001 0.0000 0.0001 0.0000 0.0002\n",
      "T 0.0012 0.0012 0.0006 0.0002 0.3052\n",
      "\n"
     ]
    }
   ],
   "source": [
    "import numpy as np\n",
    "\n",
    "probabilities = frequency / np.sum(frequency)\n",
    "probabilities = (probabilities + probabilities.transpose()) / 2.0\n",
    "print(probabilities.format(\"%.4f\"))"
   ]
  },
  {
   "cell_type": "code",
   "execution_count": 45,
   "id": "eb94fffe-1212-4dfa-9035-bbc2cf759328",
   "metadata": {},
   "outputs": [
    {
     "name": "stdout",
     "output_type": "stream",
     "text": [
      "72.0\n"
     ]
    }
   ],
   "source": [
    "from Bio import SeqIO\n",
    "seq1 = SeqIO.read(\"../data/alpha.faa\", \"fasta\")\n",
    "seq2 = SeqIO.read(\"../data/beta.faa\", \"fasta\")\n",
    "aligner = Align.PairwiseAligner()\n",
    "score = aligner.score(seq1.seq, seq2.seq)\n",
    "print(score)"
   ]
  },
  {
   "cell_type": "code",
   "execution_count": 46,
   "id": "10c741b8-01a2-4558-941e-ff7c8f8c8086",
   "metadata": {},
   "outputs": [],
   "source": [
    "alignments = aligner.align(seq1.seq, seq2.seq)"
   ]
  },
  {
   "cell_type": "markdown",
   "id": "6ad9569e-db2f-44ed-bfec-7d50ae231468",
   "metadata": {},
   "source": [
    "In this example, the total number of optimal alignments is huge (more than 4 × 1037), and calling len(alignments) will raise an OverflowError:"
   ]
  },
  {
   "cell_type": "code",
   "execution_count": 33,
   "id": "18f41fbc-9c8c-4982-994d-a02469e11d0b",
   "metadata": {
    "collapsed": true,
    "jupyter": {
     "outputs_hidden": true
    },
    "tags": []
   },
   "outputs": [
    {
     "ename": "OverflowError",
     "evalue": "number of optimal alignments is larger than 9223372036854775807",
     "output_type": "error",
     "traceback": [
      "\u001b[0;31m---------------------------------------------------------------------------\u001b[0m",
      "\u001b[0;31mOverflowError\u001b[0m                             Traceback (most recent call last)",
      "Input \u001b[0;32mIn [33]\u001b[0m, in \u001b[0;36m<module>\u001b[0;34m\u001b[0m\n\u001b[0;32m----> 1\u001b[0m \u001b[38;5;28;43mlen\u001b[39;49m\u001b[43m(\u001b[49m\u001b[43malignments\u001b[49m\u001b[43m)\u001b[49m\n",
      "File \u001b[0;32m~/.pyenv/versions/Bing/lib/python3.8/site-packages/Bio/Align/__init__.py:2058\u001b[0m, in \u001b[0;36mPairwiseAlignments.__len__\u001b[0;34m(self)\u001b[0m\n\u001b[1;32m   2057\u001b[0m \u001b[38;5;28;01mdef\u001b[39;00m \u001b[38;5;21m__len__\u001b[39m(\u001b[38;5;28mself\u001b[39m):\n\u001b[0;32m-> 2058\u001b[0m     \u001b[38;5;28;01mreturn\u001b[39;00m \u001b[38;5;28;43mlen\u001b[39;49m\u001b[43m(\u001b[49m\u001b[38;5;28;43mself\u001b[39;49m\u001b[38;5;241;43m.\u001b[39;49m\u001b[43mpaths\u001b[49m\u001b[43m)\u001b[49m\n",
      "\u001b[0;31mOverflowError\u001b[0m: number of optimal alignments is larger than 9223372036854775807"
     ]
    }
   ],
   "source": [
    "len(alignments)"
   ]
  },
  {
   "cell_type": "code",
   "execution_count": 34,
   "id": "0f258ca6-f72e-4879-b780-f31de2215745",
   "metadata": {},
   "outputs": [],
   "source": [
    "alignment = alignments[0]"
   ]
  },
  {
   "cell_type": "code",
   "execution_count": 35,
   "id": "28d2b1af-8e3d-49c2-abf1-6dfe55dced57",
   "metadata": {},
   "outputs": [
    {
     "name": "stdout",
     "output_type": "stream",
     "text": [
      "72.0\n"
     ]
    }
   ],
   "source": [
    "print(alignment.score)"
   ]
  },
  {
   "cell_type": "code",
   "execution_count": 40,
   "id": "05211d7f-6cc2-4f81-8271-674145c9e0d1",
   "metadata": {},
   "outputs": [
    {
     "data": {
      "text/html": [
       "<style>pre { white-space: pre !important; }</style>"
      ],
      "text/plain": [
       "<IPython.core.display.HTML object>"
      ]
     },
     "metadata": {},
     "output_type": "display_data"
    }
   ],
   "source": [
    "from IPython.core.display import HTML\n",
    "display(HTML(\"<style>pre { white-space: pre !important; }</style>\"))"
   ]
  },
  {
   "cell_type": "code",
   "execution_count": 38,
   "id": "01428798-ed36-41ad-8d08-08c7e0a55777",
   "metadata": {},
   "outputs": [
    {
     "name": "stdout",
     "output_type": "stream",
     "text": [
      "MV-LS-PAD--KTN--VK-AA-WGKV-----GAHAGEYGAEALE-RMFLSF----P-TTKTY--FPHF----DLSHGS---AQVK-G------HGKKV--A--DA-LTNAVAHV-DDMPNALS----A-LSD-LHAH--KLR-VDPV-NFK-LLSHC---LLVT--LAAHLPA----EFTPA-VH-ASLDKFLAS---VSTV------LTS--KYR-\n",
      "||-|--|----|----|--|--||||-----|---||--|--|--|--|------|-|------|--|----|||------|-|--|------|||||--|--|--|--|--|--|---|-|-----|-||--||----||--|||--||--||------|-|---||-|-------||||--|--|------|----|--|------|----||--\n",
      "MVHL-TP--EEK--SAV-TA-LWGKVNVDEVG---GE--A--L-GR--L--LVVYPWT----QRF--FESFGDLS---TPDA-V-MGNPKVKAHGKKVLGAFSD-GL--A--H-LD---N-L-KGTFATLS-ELH--CDKL-HVDP-ENF-RLL---GNVL-V-CVLA-H---HFGKEFTP-PV-QA------A-YQKV--VAGVANAL--AHKY-H\n",
      "\n"
     ]
    }
   ],
   "source": [
    "print(alignment)"
   ]
  },
  {
   "cell_type": "code",
   "execution_count": 47,
   "id": "8551e39b-4fa0-46b8-9509-887ddc7637ac",
   "metadata": {},
   "outputs": [
    {
     "data": {
      "text/plain": [
       "'Needleman-Wunsch'"
      ]
     },
     "execution_count": 47,
     "metadata": {},
     "output_type": "execute_result"
    }
   ],
   "source": [
    "aligner.algorithm"
   ]
  },
  {
   "cell_type": "markdown",
   "id": "1b953a1c-70ce-4649-beed-6165f3a31e45",
   "metadata": {},
   "source": [
    "Better alignments are usually obtained by penalizing gaps: higher costs for opening a gap and lower costs for extending an existing gap. For amino acid sequences match scores are usually encoded in matrices like PAM or BLOSUM. Thus, a more meaningful alignment for our example can be obtained by using the BLOSUM62 matrix, together with a gap open penalty of 10 and a gap extension penalty of 0.5:"
   ]
  },
  {
   "cell_type": "code",
   "execution_count": 64,
   "id": "361aa243-1e94-4b61-894f-e703c9f2097a",
   "metadata": {},
   "outputs": [
    {
     "name": "stdout",
     "output_type": "stream",
     "text": [
      "246.0\n"
     ]
    }
   ],
   "source": [
    "from Bio.Align import substitution_matrices\n",
    "\n",
    "aligner = Align.PairwiseAligner()\n",
    "aligner.open_gap_score = -10\n",
    "aligner.extend_gap_score = -10\n",
    "aligner.substitution_matrix = substitution_matrices.load(\"BLOSUM62\")\n",
    "score = aligner.score(seq1.seq, seq2.seq)\n",
    "print(score)"
   ]
  },
  {
   "cell_type": "code",
   "execution_count": 65,
   "id": "c1b039a9-8f94-45ef-b928-4a42a37c932d",
   "metadata": {},
   "outputs": [
    {
     "data": {
      "text/plain": [
       "'Needleman-Wunsch'"
      ]
     },
     "execution_count": 65,
     "metadata": {},
     "output_type": "execute_result"
    }
   ],
   "source": [
    "aligner.algorithm"
   ]
  },
  {
   "cell_type": "code",
   "execution_count": 53,
   "id": "59ed63e3-c965-4ff9-9761-a8f280f33402",
   "metadata": {},
   "outputs": [
    {
     "data": {
      "text/plain": [
       "2"
      ]
     },
     "execution_count": 53,
     "metadata": {},
     "output_type": "execute_result"
    }
   ],
   "source": [
    "alignments = aligner.align(seq1.seq, seq2.seq)\n",
    "len(alignments)"
   ]
  },
  {
   "cell_type": "code",
   "execution_count": 66,
   "id": "fc930592-fb06-4063-9326-bc438939f40e",
   "metadata": {},
   "outputs": [
    {
     "name": "stdout",
     "output_type": "stream",
     "text": [
      "MV-LSPADKTNVKAAWGKVGAHAGEYGAEALERMFLSFPTTKTYFPHF-DLS-----HGSAQVKGHGKKVADALTNAVAHVDDMPNALSALSDLHAHKLRVDPVNFKLLSHCLLVTLAAHLPAEFTPAVHASLDKFLASVSTVLTSKYR\n",
      "||-|.|..|..|.|.||||--...|.|.|||.|.....|.|...|..|-|||-----.|...||.|||||..|.....||.|........||.||..||.|||.||.||...|...||.|...||||.|.|...|..|.|...|..||.\n",
      "MVHLTPEEKSAVTALWGKV--NVDEVGGEALGRLLVVYPWTQRFFESFGDLSTPDAVMGNPKVKAHGKKVLGAFSDGLAHLDNLKGTFATLSELHCDKLHVDPENFRLLGNVLVCVLAHHFGKEFTPPVQAAYQKVVAGVANALAHKYH\n",
      "\n"
     ]
    }
   ],
   "source": [
    "print(alignments[0])"
   ]
  },
  {
   "cell_type": "code",
   "execution_count": null,
   "id": "f4220aaf-c739-4311-8c53-5a29fcad8ad6",
   "metadata": {},
   "outputs": [],
   "source": []
  },
  {
   "cell_type": "markdown",
   "id": "9d7fcbee-f2bc-4d72-969c-bce13862f586",
   "metadata": {},
   "source": [
    "#### Affine gap scores\n",
    "\n",
    "| Opening scores                 | Extending scores                 |\n",
    "|--------------------------------|----------------------------------|\n",
    "| query_left_open_gap_score      | query_left_extend_gap_score      |\n",
    "| query_internal_open_gap_score  | query_internal_extend_gap_score  |\n",
    "| query_right_open_gap_score     | query_right_extend_gap_score     |\n",
    "| target_left_open_gap_score     | target_left_extend_gap_score     |\n",
    "| target_internal_open_gap_score | target_internal_extend_gap_score |\n",
    "| target_right_open_gap_score    | target_right_extend_gap_score    |"
   ]
  },
  {
   "cell_type": "markdown",
   "id": "60079a7f-ab2f-487d-b3b4-2e935085b572",
   "metadata": {},
   "source": [
    "| target | query | score                            |\n",
    "|:------:|:-----:|----------------------------------|\n",
    "|    A   |   -   | query left open gap score        |\n",
    "|    C   |   -   | query left extend gap score      |\n",
    "|    C   |   -   | query left extend gap score      |\n",
    "|    G   |   G   | match score                      |\n",
    "|    G   |   T   | mismatch score                   |\n",
    "|    G   |   -   | query internal open gap score    |\n",
    "|    A   |   -   | query internal extend gap score  |\n",
    "|    A   |   -   | query internal extend gap score  |\n",
    "|    T   |   T   | match score                      |\n",
    "|    A   |   A   | match score                      |\n",
    "|    G   |   -   | query internal open gap score    |\n",
    "|    C   |   C   | match score                      |\n",
    "|    -   |   C   | target internal open gap score   |\n",
    "|    -   |   C   | target internal extend gap score |\n",
    "|    C   |   C   | match score                      |\n",
    "|    T   |   G   | mismatch score                   |\n",
    "|    C   |   C   | match score                      |\n",
    "|    -   |   C   | target internal open gap score   |\n",
    "|    A   |   A   | match score                      |\n",
    "|    -   |   T   | target right open gap score      |\n",
    "|    -   |   A   | target right extend gap score    |\n",
    "|    -   |   A   | target right extend gap score    |"
   ]
  },
  {
   "cell_type": "code",
   "execution_count": 10,
   "id": "ebc2155d-64c6-4560-8623-d389ae3c0d1a",
   "metadata": {},
   "outputs": [],
   "source": [
    "aligner = Align.PairwiseAligner()\n",
    "def my_gap_score_function(start, length):\n",
    "    if start==2:\n",
    "        return -1000\n",
    "    else:\n",
    "        return -1 * length"
   ]
  },
  {
   "cell_type": "code",
   "execution_count": 11,
   "id": "7b126dda-6ec1-4cfc-8b12-e643af134901",
   "metadata": {},
   "outputs": [
    {
     "name": "stdout",
     "output_type": "stream",
     "text": [
      "AACTT\n",
      "-|.||\n",
      "-AATT\n",
      "\n",
      "AACTT\n",
      "|-.||\n",
      "A-ATT\n",
      "\n",
      "AACTT\n",
      "||.-|\n",
      "AAT-T\n",
      "\n",
      "AACTT\n",
      "||.|-\n",
      "AATT-\n",
      "\n"
     ]
    }
   ],
   "source": [
    "aligner.query_gap_score = my_gap_score_function\n",
    "alignments = aligner.align(\"AACTT\", \"AATT\")\n",
    "for alignment in alignments:\n",
    "    print(alignment)"
   ]
  }
 ],
 "metadata": {
  "kernelspec": {
   "display_name": "Bing",
   "language": "python",
   "name": "bing"
  },
  "language_info": {
   "codemirror_mode": {
    "name": "ipython",
    "version": 3
   },
   "file_extension": ".py",
   "mimetype": "text/x-python",
   "name": "python",
   "nbconvert_exporter": "python",
   "pygments_lexer": "ipython3",
   "version": "3.8.0"
  }
 },
 "nbformat": 4,
 "nbformat_minor": 5
}
