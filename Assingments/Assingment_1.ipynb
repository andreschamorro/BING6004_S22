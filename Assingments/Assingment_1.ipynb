{
 "cells": [
  {
   "cell_type": "markdown",
   "id": "3c04e764-de2f-453d-9831-7d2daacd83fe",
   "metadata": {
    "jp-MarkdownHeadingCollapsed": true,
    "tags": []
   },
   "source": [
    ">## BING 6004: Principles of Computational Bioengineering\n",
    ">### Assingment 1 - Orthology – Spring 2022\n",
    ">### Due Date: March 21, 2022\n",
    ">> ***Summary and electronic files should be submitted through online.upr.edu***"
   ]
  },
  {
   "cell_type": "markdown",
   "id": "0dad678b-3415-434b-b2b2-1bb6fdf60c69",
   "metadata": {},
   "source": [
    "<p dir=\"ltr\" style=\"text-align: left;\"></p>\n",
    "<p><strong>General Instructions</strong><br></p>\n",
    "<ol>\n",
    "    <li>Write a cover page with the following format:&nbsp;</li>\n",
    "    <p></p>\n",
    "        <p style=\"text-align: center;\">MIDTERM I BING 6004 - Second Semester 2021-2022</p>\n",
    "        <p style=\"text-align: center;\">Full name&nbsp;</span></p>\n",
    "        <p style=\"text-align: center;\">Student ID Do not add logos or any additional information.</p>\n",
    "        <li> Name each file with _NameLastName</li>\n",
    "</ol>"
   ]
  },
  {
   "cell_type": "markdown",
   "id": "66a77656-3ff5-440c-bf4e-a0fa8c48662e",
   "metadata": {},
   "source": [
    "In this assignment we will analyze four insulin genes, INS1_RAT, INS2_RAT, W5MUN8_LEPOC and INS_HUMAN. INS1_RAT, INS2_RAT were duplicated in the rodent lineage [(Shiao et al., 2008)](https://dx.doi.org/10.1534/genetics.108.087023). In turn, NS_HUMAN is the only insulin molecule in Humans. Thus, according to what we have discussed, INS1_RAT, INS2_RAT are orthologous to INS_HUMAN and to W5MUN8_LEPOC but INS1_RAT and INS2_RAT are paralogous. This exercise aims at comparing them using Needleman-Wunsch global alignment and different protein substitution matrices."
   ]
  },
  {
   "cell_type": "markdown",
   "id": "6a9255a2-7f26-470e-a37a-7559d7e9b9e4",
   "metadata": {},
   "source": [
    "1) Write a short (about one page) non-technical summary of some readings of your choice. The summary must address the general nature of insulin, insulin’s physiological role, and some of its related diseases, such as diabetes type 1 and 2. Use at least two references."
   ]
  },
  {
   "cell_type": "code",
   "execution_count": null,
   "id": "acf2d71b-34b5-4875-94a0-1eb3fb564452",
   "metadata": {},
   "outputs": [],
   "source": []
  },
  {
   "cell_type": "markdown",
   "id": "b8952946-c520-45d7-b713-da8783d912dc",
   "metadata": {},
   "source": [
    "2. Use python to programmatically download the four insulin sequences with UniProtKB id, P01322, P01323, P01308 and W5MUN8. Assign each of them to different variables, each with an appropriate name."
   ]
  },
  {
   "cell_type": "code",
   "execution_count": null,
   "id": "6b221bae-c125-45be-961d-daca446083e7",
   "metadata": {},
   "outputs": [],
   "source": [
    "def download_prot(uid, fname):\n",
    "    \"\"\"Download the protein with UniProtKB id.\n",
    "\n",
    "        Parameters\n",
    "        ----------\n",
    "        uid : str\n",
    "            UniProtKB\n",
    "        fname : str\n",
    "            Output filename\n",
    "    \"\"\"\n",
    "    \n",
    "    #TODO\n",
    "    \n",
    "    pass"
   ]
  },
  {
   "cell_type": "code",
   "execution_count": null,
   "id": "96671ee6-4348-452b-a60b-0868cf9416d8",
   "metadata": {},
   "outputs": [],
   "source": []
  },
  {
   "cell_type": "markdown",
   "id": "a87c280f-a0be-48b3-9c6f-3e3fc41bc302",
   "metadata": {},
   "source": [
    "3. Complete and use the following Python skeleton for computing the percentages of identity of each of the pairs of protein sequences listed above. Use the computed percentage to select an appropriate BLOSUM matrix for the corresponding alignments."
   ]
  },
  {
   "cell_type": "code",
   "execution_count": null,
   "id": "b405d9c6-e2db-4f98-8d4e-f7d089fb849d",
   "metadata": {},
   "outputs": [],
   "source": [
    "def percentage_identity(seq_a, seq_b):\n",
    "    \"\"\"Calculate the percentage of identity of two sequences.\n",
    "\n",
    "        Parameters\n",
    "        ----------\n",
    "        seq_a : str\n",
    "            Target sequence or first sequence\n",
    "        seq_b : str\n",
    "            Query sequence or second sequence\n",
    "\n",
    "        Raises\n",
    "        ------\n",
    "        TypeError\n",
    "            seq_a and seq_b are not strings\n",
    "        \"\"\"\n",
    "    if not (isinstance(seq_a, str) & isinstance(seq_b, str)):\n",
    "        raise TypeError('seq_a and seq_b are not strings')\n",
    "    \n",
    "    # TODO\n",
    "    \n",
    "    pass"
   ]
  },
  {
   "cell_type": "code",
   "execution_count": null,
   "id": "b9a31752-1f9d-4aa3-8eaa-24c19c0e57fc",
   "metadata": {},
   "outputs": [],
   "source": []
  },
  {
   "cell_type": "markdown",
   "id": "6d737a73-7b9b-4eef-941d-f52e351d9140",
   "metadata": {},
   "source": [
    "4) Use the Needleman-Wunsch implementation available in Bio.Align.PairwiseAligner Class on biopython to compute the requested alignments. In each case use the selected BLOSUM matrix and a linear penalty gap whose insertion cost $(d)$ equals to the floor of 0.7 times the maximum of the corresponding BLOSUM matrix of substitutions, i.e. $d=\\lfloor 0.7 max \\rfloor$"
   ]
  },
  {
   "cell_type": "code",
   "execution_count": null,
   "id": "c3fd8a35-8d56-4826-be52-3a73ef0223ba",
   "metadata": {},
   "outputs": [],
   "source": []
  },
  {
   "cell_type": "markdown",
   "id": "88856e1b-ecfa-4d69-ad4c-b477d61f3426",
   "metadata": {},
   "source": [
    "5) Repeat the computations of step 4, but this time, using the PAM250 protein substitution matrix."
   ]
  },
  {
   "cell_type": "code",
   "execution_count": null,
   "id": "e11fb36f-a66d-405e-992b-42755697865f",
   "metadata": {},
   "outputs": [],
   "source": []
  },
  {
   "cell_type": "markdown",
   "id": "7a1228c9-8585-4eec-b937-2fdc151f189f",
   "metadata": {},
   "source": [
    "6) Summarize your observations on the alignment’s results. Search in the literature the approximate speciation times of each of the specimens and write an opinion on the extent to which these data are reflected in the alignments obtained and their scores.   "
   ]
  },
  {
   "cell_type": "code",
   "execution_count": null,
   "id": "17de18bc-7579-4f24-99cb-b003f721ed82",
   "metadata": {},
   "outputs": [],
   "source": []
  }
 ],
 "metadata": {
  "kernelspec": {
   "display_name": "Bing",
   "language": "python",
   "name": "bing"
  },
  "language_info": {
   "codemirror_mode": {
    "name": "ipython",
    "version": 3
   },
   "file_extension": ".py",
   "mimetype": "text/x-python",
   "name": "python",
   "nbconvert_exporter": "python",
   "pygments_lexer": "ipython3",
   "version": "3.8.0"
  }
 },
 "nbformat": 4,
 "nbformat_minor": 5
}
