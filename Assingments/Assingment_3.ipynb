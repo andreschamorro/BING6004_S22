{
 "cells": [
  {
   "cell_type": "markdown",
   "id": "1194e72d-2067-4231-865c-d153fb434ac0",
   "metadata": {},
   "source": [
    ">## BING 6004: Principles of Computational Bioengineering\n",
    ">### Assignment 3 - Motif Discovery – Spring 2022\n",
    ">### Due Date: May 9, 2022\n",
    ">> ***Summary and electronic files should be submitted through online.upr.edu***"
   ]
  },
  {
   "cell_type": "markdown",
   "id": "bee091d6-37d8-4ee6-9182-ef4e243a8c07",
   "metadata": {},
   "source": [
    "<p dir=\"ltr\" style=\"text-align: left;\"></p>\n",
    "<p><strong>General Instructions</strong><br></p>\n",
    "<ol>\n",
    "    <li>Write a cover page with the following format:&nbsp;</li>\n",
    "    <p></p>\n",
    "        <p style=\"text-align: center;\">MIDTERM I BING 6004 - Second Semester 2021-2022</p>\n",
    "        <p style=\"text-align: center;\">Full name&nbsp;</span></p>\n",
    "        <p style=\"text-align: center;\">Student ID Do not add logos or any additional information.</p>\n",
    "        <li> Name each file with _NameLastName</li>\n",
    "</ol>"
   ]
  },
  {
   "cell_type": "markdown",
   "id": "53269415-2fe6-4c1f-a7e2-0dfbd089c3d8",
   "metadata": {},
   "source": [
    ">### Prologue\n",
    "The SAMPLE2.fasta file is a nucleotide sequence believed to contain a motif of size 15. The task is to use a multiple alignment method to find the motifs. An additional 500 bps sequence is given, and you are requested to ask whether there is one or more 15-bps segment(s) in the sequence, which is(are) a potential member of the motif. Your findings, if any, should be supported by significance analysis using the p-value. To do this, you are asked to perform the following calculations."
   ]
  },
  {
   "cell_type": "markdown",
   "id": "07e880b3-3a58-4fbb-8c5e-27ec4faf1764",
   "metadata": {},
   "source": [
    "<p style=\"text-align:center;\">\n",
    "<img src=\"figures/mview.svg\" alt=\"NCBI_database\" class=\"center\"/>\n",
    "</p>"
   ]
  },
  {
   "cell_type": "code",
   "execution_count": 2,
   "id": "b772156a-0a93-4a83-81fe-d46e96d36e38",
   "metadata": {
    "tags": []
   },
   "outputs": [],
   "source": [
    "import re\n",
    "import copy\n",
    "from Bio import SeqIO\n",
    "\n",
    "class MsView():\n",
    "    def __init__(self, fasta_file, plot_width=80):\n",
    "        self.fasta_file = fasta_file\n",
    "        self.plot_width = plot_width\n",
    "        self._bg = None\n",
    "        self.records = None\n",
    "        self.from_file()\n",
    "        \n",
    "    def from_file(self, fasta_file=None, frm = 'fasta'):\n",
    "        if fasta_file is not None:\n",
    "            self.fasta_file = fasta_file\n",
    "        with open(self.fasta_file) as handle:\n",
    "            self.records = [record for record in SeqIO.parse(handle, frm)]\n",
    "            self._alignment_length = max([len(record.seq) for record in self.records])\n",
    "        self.set_bg()\n",
    "    \n",
    "    def set_bg(self):\n",
    "        bg_c = {\n",
    "            'A': 10,\n",
    "            'C': 11,\n",
    "            'G': 12,\n",
    "            'T': 9,\n",
    "            'U': 9\n",
    "        }\n",
    "        self._bg = []\n",
    "        for seq in self.records:\n",
    "            self._bg.append([bg_c.get(n, 255) for n in seq.seq])\n",
    "            \n",
    "    def to_str(self, pattern=''):\n",
    "        tmp_str = []\n",
    "        bg_copy = copy.deepcopy(self._bg)\n",
    "        try:\n",
    "            regex = re.compile(pattern, re.I)\n",
    "        except:\n",
    "            regex = re.compile('', re.I)\n",
    "        for i, seq in enumerate(self.records):\n",
    "            for m in regex.finditer(str(seq.seq)):\n",
    "                for j in range(m.start(),m.end()):\n",
    "                    bg_copy[i][j] = 245\n",
    "                    \n",
    "        num_blks = self._alignment_length // self.plot_width + 1\n",
    "        for i_b in range(num_blks):\n",
    "            b_start = i_b*self.plot_width\n",
    "            b_end = (i_b + 1)*self.plot_width\n",
    "            tmp_str.append(\"{:03d}{}{:03d}\\n\".format(b_start, (self.plot_width-6)*'.', b_end))\n",
    "            for seq, bgs in zip(self.records, bg_copy):\n",
    "                for n, bg in zip(seq[b_start: b_end], bgs[b_start: b_end]):\n",
    "                    tmp_str.append(f\"\\033[48;5;{bg}m{n}\")\n",
    "                tmp_str.append(\"\\033[0;0m\\n\")\n",
    "            tmp_str.append(\"\\n\")\n",
    "        return \"\".join(tmp_str)\n",
    "    \n",
    "    def view(self, pattern=''):\n",
    "        print(self.to_str(pattern))\n",
    "\n",
    "    def __str__(self):\n",
    "        return self.to_str()"
   ]
  },
  {
   "cell_type": "code",
   "execution_count": 5,
   "id": "8bbd0c41-d5a9-4e8a-9901-03247f9bf0d2",
   "metadata": {},
   "outputs": [
    {
     "data": {
      "application/vnd.jupyter.widget-view+json": {
       "model_id": "1b5dc89525a04497b7daa746213d1509",
       "version_major": 2,
       "version_minor": 0
      },
      "text/plain": [
       "VBox(children=(VBox(children=(Text(value='../data/SAMPLE2.fasta', description='File:', placeholder='Fasta file…"
      ]
     },
     "metadata": {},
     "output_type": "display_data"
    }
   ],
   "source": [
    "from ipywidgets import interact, widgets\n",
    "from IPython.display import display\n",
    "\n",
    "fas = widgets.Text(\n",
    "    value='../data/SAMPLE2.fasta',\n",
    "    placeholder='Fasta file',\n",
    "    description='File:',\n",
    "    disabled=False\n",
    ")\n",
    "\n",
    "pattern = widgets.Text(\n",
    "    value='(A|C|T)(A|T)G(C|G|T)(A|C)(C|G|A)(A|T)(A|C|G)(A|G)C(A|T)(A|G|T)(C|G)(C|T)(A|C|T)',\n",
    "    placeholder='Pattern to search',\n",
    "    description='Pattern:',\n",
    "    disabled=False\n",
    ")\n",
    "\n",
    "msview = MsView(fas.value)\n",
    "out = widgets.interactive_output(msview.view, {'pattern': pattern})\n",
    "widgets.VBox([widgets.VBox([fas, pattern]), out])"
   ]
  },
  {
   "cell_type": "markdown",
   "id": "5c2ddf6c-14df-4bc8-827a-19647aa39bb3",
   "metadata": {},
   "source": [
    "### 2. Use Bio.motifs module and re-module to calculate:"
   ]
  },
  {
   "cell_type": "markdown",
   "id": "9bf66b82-6bb2-4fbc-97f6-3352c2b07ee9",
   "metadata": {},
   "source": [
    "2. a) Consensus and Anticonsensus."
   ]
  },
  {
   "cell_type": "code",
   "execution_count": 7,
   "id": "2a631e48-4e21-4565-ac7a-bba80d72f107",
   "metadata": {},
   "outputs": [
    {
     "name": "stdout",
     "output_type": "stream",
     "text": [
      "Motif length : 15\n",
      "Motif consensus: ATGTCCAGACATGCC\n",
      "Motif anti-consensus: GCAAGTCTCACCAAG\n"
     ]
    }
   ],
   "source": [
    "from Bio import motifs\n",
    "from Bio.Seq import Seq\n",
    "\n",
    "instances = [Seq(\"ATGCCCAGACATGCC\"),\n",
    "Seq(\"ATGCCCAGACATGCC\"),\n",
    "Seq(\"ATGCCCAGACATGCT\"),\n",
    "Seq(\"ATGCCCAGACATGCC\"),\n",
    "Seq(\"ATGTCCAGGCATGCC\"),\n",
    "Seq(\"ATGTCCAGGCATGCA\"),\n",
    "Seq(\"ATGTAGTCACTTGTT\"),\n",
    "Seq(\"TTGTCCTAACATGTT\"),\n",
    "Seq(\"AAGCCAAGACATGCT\"),\n",
    "Seq(\"CTGTCCAGGCATGCA\"),\n",
    "Seq(\"ATGTCCAGGCAGCTT\"),\n",
    "Seq(\"CTGGAGAGGCAAGCC\"),\n",
    "Seq(\"TAGTCCAGACAAGTC\"),\n",
    "Seq(\"ATGTCAAGACTTGTC\"),\n",
    "Seq(\"ATGCCCACACAAGCC\")]\n",
    "\n",
    "m = motifs.create(instances)\n",
    "print(f\"Motif length : {len(m)}\")\n",
    "print(f\"Motif consensus: {m.consensus}\")\n",
    "print(f\"Motif anti-consensus: {m.anticonsensus}\")"
   ]
  },
  {
   "cell_type": "markdown",
   "id": "b8cc86bf-8d1b-4faa-a40f-0f2e04b58f97",
   "metadata": {},
   "source": [
    "2. b)\tPSSM and PFM Matrices."
   ]
  },
  {
   "cell_type": "code",
   "execution_count": 9,
   "id": "f6c8cbd2-ea07-4065-8ebc-0114f40bee8b",
   "metadata": {},
   "outputs": [
    {
     "name": "stdout",
     "output_type": "stream",
     "text": [
      "PFM matrix:\n"
     ]
    },
    {
     "data": {
      "text/html": [
       "<div>\n",
       "<style scoped>\n",
       "    .dataframe tbody tr th:only-of-type {\n",
       "        vertical-align: middle;\n",
       "    }\n",
       "\n",
       "    .dataframe tbody tr th {\n",
       "        vertical-align: top;\n",
       "    }\n",
       "\n",
       "    .dataframe thead th {\n",
       "        text-align: right;\n",
       "    }\n",
       "</style>\n",
       "<table border=\"1\" class=\"dataframe\">\n",
       "  <thead>\n",
       "    <tr style=\"text-align: right;\">\n",
       "      <th></th>\n",
       "      <th>0</th>\n",
       "      <th>1</th>\n",
       "      <th>2</th>\n",
       "      <th>3</th>\n",
       "      <th>4</th>\n",
       "      <th>5</th>\n",
       "      <th>6</th>\n",
       "      <th>7</th>\n",
       "      <th>8</th>\n",
       "      <th>9</th>\n",
       "      <th>10</th>\n",
       "      <th>11</th>\n",
       "      <th>12</th>\n",
       "      <th>13</th>\n",
       "      <th>14</th>\n",
       "    </tr>\n",
       "  </thead>\n",
       "  <tbody>\n",
       "    <tr>\n",
       "      <th>A</th>\n",
       "      <td>11</td>\n",
       "      <td>2</td>\n",
       "      <td>0</td>\n",
       "      <td>0</td>\n",
       "      <td>2</td>\n",
       "      <td>2</td>\n",
       "      <td>13</td>\n",
       "      <td>1</td>\n",
       "      <td>10</td>\n",
       "      <td>0</td>\n",
       "      <td>13</td>\n",
       "      <td>3</td>\n",
       "      <td>0</td>\n",
       "      <td>0</td>\n",
       "      <td>2</td>\n",
       "    </tr>\n",
       "    <tr>\n",
       "      <th>C</th>\n",
       "      <td>2</td>\n",
       "      <td>0</td>\n",
       "      <td>0</td>\n",
       "      <td>6</td>\n",
       "      <td>13</td>\n",
       "      <td>11</td>\n",
       "      <td>0</td>\n",
       "      <td>2</td>\n",
       "      <td>0</td>\n",
       "      <td>15</td>\n",
       "      <td>0</td>\n",
       "      <td>0</td>\n",
       "      <td>1</td>\n",
       "      <td>10</td>\n",
       "      <td>8</td>\n",
       "    </tr>\n",
       "    <tr>\n",
       "      <th>G</th>\n",
       "      <td>0</td>\n",
       "      <td>0</td>\n",
       "      <td>15</td>\n",
       "      <td>1</td>\n",
       "      <td>0</td>\n",
       "      <td>2</td>\n",
       "      <td>0</td>\n",
       "      <td>12</td>\n",
       "      <td>5</td>\n",
       "      <td>0</td>\n",
       "      <td>0</td>\n",
       "      <td>1</td>\n",
       "      <td>14</td>\n",
       "      <td>0</td>\n",
       "      <td>0</td>\n",
       "    </tr>\n",
       "    <tr>\n",
       "      <th>T</th>\n",
       "      <td>2</td>\n",
       "      <td>13</td>\n",
       "      <td>0</td>\n",
       "      <td>8</td>\n",
       "      <td>0</td>\n",
       "      <td>0</td>\n",
       "      <td>2</td>\n",
       "      <td>0</td>\n",
       "      <td>0</td>\n",
       "      <td>0</td>\n",
       "      <td>2</td>\n",
       "      <td>11</td>\n",
       "      <td>0</td>\n",
       "      <td>5</td>\n",
       "      <td>5</td>\n",
       "    </tr>\n",
       "  </tbody>\n",
       "</table>\n",
       "</div>"
      ],
      "text/plain": [
       "   0   1   2   3   4   5   6   7   8   9   10  11  12  13  14\n",
       "A  11   2   0   0   2   2  13   1  10   0  13   3   0   0   2\n",
       "C   2   0   0   6  13  11   0   2   0  15   0   0   1  10   8\n",
       "G   0   0  15   1   0   2   0  12   5   0   0   1  14   0   0\n",
       "T   2  13   0   8   0   0   2   0   0   0   2  11   0   5   5"
      ]
     },
     "execution_count": 9,
     "metadata": {},
     "output_type": "execute_result"
    }
   ],
   "source": [
    "import pandas as pd\n",
    "\n",
    "print('PFM matrix:')\n",
    "pd.DataFrame.from_dict(dict(m.counts)).T"
   ]
  },
  {
   "cell_type": "code",
   "execution_count": 10,
   "id": "5a5735dd-5e9c-4c97-8fe4-86aaf533c5a7",
   "metadata": {},
   "outputs": [],
   "source": [
    "from collections import Counter\n",
    "\n",
    "def nucleotide_frequency(seq):\n",
    "    return dict(Counter(seq))\n",
    "\n",
    "ppm = m.counts.normalize()"
   ]
  },
  {
   "cell_type": "code",
   "execution_count": 12,
   "id": "bf869f02-4f1c-4d47-b261-707254f79756",
   "metadata": {},
   "outputs": [],
   "source": [
    "from Bio import SeqIO\n",
    "\n",
    "with open('../data/500bp.fasta') as handle:\n",
    "    for record in SeqIO.parse(handle, 'fasta'):\n",
    "        seq_500 = record.seq\n",
    "\n",
    "background = nucleotide_frequency(seq_500)\n",
    "total = sum(background.values())\n",
    "values = {}\n",
    "alphabet = m.alphabet\n",
    "for letter in alphabet:\n",
    "    background[letter] /= total\n",
    "    values[letter] = []"
   ]
  },
  {
   "cell_type": "code",
   "execution_count": 13,
   "id": "cccad328-3e98-457c-81e1-cc4f46aa35dd",
   "metadata": {},
   "outputs": [],
   "source": [
    "import math\n",
    "\n",
    "for i in range(m.length):\n",
    "    for letter in alphabet:\n",
    "        b = background[letter]\n",
    "        if b > 0:\n",
    "            p = ppm[letter][i]\n",
    "            logodds = math.log(p + (p+1.0) / b, 2)\n",
    "        else:\n",
    "            p = self[letter][i]\n",
    "            if p > 0:\n",
    "                logodds = math.inf\n",
    "            else:\n",
    "                logodds = math.nan\n",
    "        values[letter].append(logodds)"
   ]
  },
  {
   "cell_type": "code",
   "execution_count": 15,
   "id": "89556f2d-dc59-4c4c-87ba-149611a7dfcc",
   "metadata": {},
   "outputs": [
    {
     "name": "stdout",
     "output_type": "stream",
     "text": [
      "PSSM matrix:\n"
     ]
    },
    {
     "data": {
      "text/html": [
       "<div>\n",
       "<style scoped>\n",
       "    .dataframe tbody tr th:only-of-type {\n",
       "        vertical-align: middle;\n",
       "    }\n",
       "\n",
       "    .dataframe tbody tr th {\n",
       "        vertical-align: top;\n",
       "    }\n",
       "\n",
       "    .dataframe thead th {\n",
       "        text-align: right;\n",
       "    }\n",
       "</style>\n",
       "<table border=\"1\" class=\"dataframe\">\n",
       "  <thead>\n",
       "    <tr style=\"text-align: right;\">\n",
       "      <th></th>\n",
       "      <th>0</th>\n",
       "      <th>1</th>\n",
       "      <th>2</th>\n",
       "      <th>3</th>\n",
       "      <th>4</th>\n",
       "      <th>5</th>\n",
       "      <th>6</th>\n",
       "      <th>7</th>\n",
       "      <th>8</th>\n",
       "      <th>9</th>\n",
       "      <th>10</th>\n",
       "      <th>11</th>\n",
       "      <th>12</th>\n",
       "      <th>13</th>\n",
       "      <th>14</th>\n",
       "    </tr>\n",
       "  </thead>\n",
       "  <tbody>\n",
       "    <tr>\n",
       "      <th>A</th>\n",
       "      <td>2.83</td>\n",
       "      <td>2.11</td>\n",
       "      <td>1.88</td>\n",
       "      <td>1.88</td>\n",
       "      <td>2.11</td>\n",
       "      <td>2.11</td>\n",
       "      <td>2.96</td>\n",
       "      <td>2.00</td>\n",
       "      <td>2.77</td>\n",
       "      <td>1.88</td>\n",
       "      <td>2.96</td>\n",
       "      <td>2.21</td>\n",
       "      <td>1.88</td>\n",
       "      <td>1.88</td>\n",
       "      <td>2.11</td>\n",
       "    </tr>\n",
       "    <tr>\n",
       "      <th>C</th>\n",
       "      <td>2.34</td>\n",
       "      <td>2.13</td>\n",
       "      <td>2.13</td>\n",
       "      <td>2.70</td>\n",
       "      <td>3.17</td>\n",
       "      <td>3.05</td>\n",
       "      <td>2.13</td>\n",
       "      <td>2.34</td>\n",
       "      <td>2.13</td>\n",
       "      <td>3.28</td>\n",
       "      <td>2.13</td>\n",
       "      <td>2.13</td>\n",
       "      <td>2.24</td>\n",
       "      <td>2.99</td>\n",
       "      <td>2.85</td>\n",
       "    </tr>\n",
       "    <tr>\n",
       "      <th>G</th>\n",
       "      <td>2.14</td>\n",
       "      <td>2.14</td>\n",
       "      <td>3.29</td>\n",
       "      <td>2.25</td>\n",
       "      <td>2.14</td>\n",
       "      <td>2.36</td>\n",
       "      <td>2.14</td>\n",
       "      <td>3.13</td>\n",
       "      <td>2.63</td>\n",
       "      <td>2.14</td>\n",
       "      <td>2.14</td>\n",
       "      <td>2.25</td>\n",
       "      <td>3.24</td>\n",
       "      <td>2.14</td>\n",
       "      <td>2.14</td>\n",
       "    </tr>\n",
       "    <tr>\n",
       "      <th>T</th>\n",
       "      <td>2.10</td>\n",
       "      <td>2.95</td>\n",
       "      <td>1.87</td>\n",
       "      <td>2.62</td>\n",
       "      <td>1.87</td>\n",
       "      <td>1.87</td>\n",
       "      <td>2.10</td>\n",
       "      <td>1.87</td>\n",
       "      <td>1.87</td>\n",
       "      <td>1.87</td>\n",
       "      <td>2.10</td>\n",
       "      <td>2.82</td>\n",
       "      <td>1.87</td>\n",
       "      <td>2.38</td>\n",
       "      <td>2.38</td>\n",
       "    </tr>\n",
       "  </tbody>\n",
       "</table>\n",
       "</div>"
      ],
      "text/plain": [
       "     0     1     2     3     4     5     6     7     8     9     10    11  \\\n",
       "A  2.83  2.11  1.88  1.88  2.11  2.11  2.96  2.00  2.77  1.88  2.96  2.21   \n",
       "C  2.34  2.13  2.13  2.70  3.17  3.05  2.13  2.34  2.13  3.28  2.13  2.13   \n",
       "G  2.14  2.14  3.29  2.25  2.14  2.36  2.14  3.13  2.63  2.14  2.14  2.25   \n",
       "T  2.10  2.95  1.87  2.62  1.87  1.87  2.10  1.87  1.87  1.87  2.10  2.82   \n",
       "\n",
       "     12    13    14  \n",
       "A  1.88  1.88  2.11  \n",
       "C  2.24  2.99  2.85  \n",
       "G  3.24  2.14  2.14  \n",
       "T  1.87  2.38  2.38  "
      ]
     },
     "execution_count": 15,
     "metadata": {},
     "output_type": "execute_result"
    }
   ],
   "source": [
    "pssm = motifs.matrix.PositionSpecificScoringMatrix(alphabet, values)\n",
    "df_pssm = pd.DataFrame.from_dict(dict(pssm)).T\n",
    "print('PSSM matrix:')\n",
    "df_pssm.applymap(\"{0:.2f}\".format)"
   ]
  },
  {
   "cell_type": "markdown",
   "id": "fba07eca-0e78-42ff-bad8-b69485fce9a1",
   "metadata": {
    "tags": []
   },
   "source": [
    "### 3. Slide a 15-bps windows over the 500 bp sequence on 500bp.fasta file"
   ]
  },
  {
   "cell_type": "markdown",
   "id": "0e200679-7f57-42cf-acc8-f552db534aee",
   "metadata": {},
   "source": [
    "3. a)\tConstruct a histogram with the scores of the windows "
   ]
  },
  {
   "cell_type": "code",
   "execution_count": 16,
   "id": "2e381eae-c7fb-4222-9a09-102c2a26a3f9",
   "metadata": {},
   "outputs": [],
   "source": [
    "max_score = df_pssm.max(numeric_only=True).sum()\n",
    "min_score = df_pssm.min(numeric_only=True).sum()"
   ]
  },
  {
   "cell_type": "code",
   "execution_count": 17,
   "id": "3e477afc-dcb9-41fa-baf9-3311d524b680",
   "metadata": {},
   "outputs": [],
   "source": [
    "def relative_score(seq, pssm, min_score=0.0, max_score=1.0):\n",
    "    if sorted(pssm.alphabet) != [\"A\", \"C\", \"G\", \"T\"]:\n",
    "        raise ValueError(\n",
    "            \"PSSM has wrong alphabet: %s - Use only with DNA motifs\" % pssm.alphabet\n",
    "        )\n",
    "    if len(seq) > pssm.length:\n",
    "        raise ValueError(\n",
    "            \"Seq is too big \" % len(seq)\n",
    "        )\n",
    "    score = 0\n",
    "    for i, n in enumerate(seq):\n",
    "        score += pssm[n, i]\n",
    "    return (score-min_score)/(max_score-min_score)"
   ]
  },
  {
   "cell_type": "code",
   "execution_count": 19,
   "id": "0b3d3bcb-8eb8-496c-985f-5063b871ee90",
   "metadata": {},
   "outputs": [],
   "source": [
    "# Sliding window\n",
    "# seq_500[k:k+15]\n",
    "\n",
    "import numpy as np\n",
    "rs = []\n",
    "for k in range(len(seq_500) - 15 +1):\n",
    "    rs.append(relative_score(seq_500[k:k+15], pssm, min_score, max_score))\n",
    "rs = np.array(rs)"
   ]
  },
  {
   "cell_type": "code",
   "execution_count": 20,
   "id": "fb559f31-649d-409b-88e0-179c66fcb6f8",
   "metadata": {},
   "outputs": [
    {
     "data": {
      "text/plain": [
       "<matplotlib.patches.StepPatch at 0x7fe0d53f0e50>"
      ]
     },
     "execution_count": 20,
     "metadata": {},
     "output_type": "execute_result"
    },
    {
     "data": {
      "image/png": "[encoded data removed]",
      "text/plain": [
       "<Figure size 432x288 with 1 Axes>"
      ]
     },
     "metadata": {
      "needs_background": "light"
     },
     "output_type": "display_data"
    }
   ],
   "source": [
    "#histogram\n",
    "import numpy as np\n",
    "import matplotlib.pyplot as plt\n",
    "%matplotlib inline\n",
    "\n",
    "# getting data of the histogram\n",
    "counts, bins_counts = np.histogram(rs)\n",
    "plt.stairs(counts, bins_counts, fill=True)"
   ]
  },
  {
   "cell_type": "markdown",
   "id": "29be211f-3b51-4d60-81a8-0c9a3608d2a9",
   "metadata": {},
   "source": [
    "3. b)\tCompute the p-value and find the segment(s) whose score rejects the null-hypothesis: “the sequence does not belong to the motif”."
   ]
  },
  {
   "cell_type": "code",
   "execution_count": 21,
   "id": "aebc3d82-5261-447d-ac62-e4c897d983b9",
   "metadata": {},
   "outputs": [],
   "source": [
    "def empirical_pvalue(array, val):\n",
    "    return float(len(array[array > val]))/float(len(array))\n",
    "\n",
    "epv = np.array([empirical_pvalue(rs, s) for s in rs])"
   ]
  },
  {
   "cell_type": "code",
   "execution_count": 22,
   "id": "295ac7a8-b78d-4db0-8d53-85353f15a793",
   "metadata": {},
   "outputs": [
    {
     "data": {
      "text/plain": [
       "array([0.03433476, 0.01287554, 0.03862661, 0.00214592, 0.027897  ,\n",
       "       0.02145923, 0.01716738, 0.03218884, 0.01502146, 0.03004292,\n",
       "       0.00643777, 0.03648069, 0.        , 0.02360515, 0.02575107,\n",
       "       0.0193133 , 0.01072961, 0.04291845, 0.00429185, 0.0472103 ,\n",
       "       0.04506438, 0.00858369, 0.04077253, 0.04935622])"
      ]
     },
     "execution_count": 22,
     "metadata": {},
     "output_type": "execute_result"
    }
   ],
   "source": [
    "epv[epv < 0.05]"
   ]
  }
 ],
 "metadata": {
  "kernelspec": {
   "display_name": "tf-lab",
   "language": "python",
   "name": "tf-lab"
  },
  "language_info": {
   "codemirror_mode": {
    "name": "ipython",
    "version": 3
   },
   "file_extension": ".py",
   "mimetype": "text/x-python",
   "name": "python",
   "nbconvert_exporter": "python",
   "pygments_lexer": "ipython3",
   "version": "3.7.7"
  }
 },
 "nbformat": 4,
 "nbformat_minor": 5
}
